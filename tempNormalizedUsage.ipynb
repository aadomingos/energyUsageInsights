{
  "nbformat": 4,
  "nbformat_minor": 0,
  "metadata": {
    "colab": {
      "name": "tempNormalizedUsage.ipynb",
      "provenance": [],
      "authorship_tag": "ABX9TyOXKThzuPMqyjBOvvrRBkYo",
      "include_colab_link": true
    },
    "kernelspec": {
      "name": "python3",
      "display_name": "Python 3"
    }
  },
  "cells": [
    {
      "cell_type": "markdown",
      "metadata": {
        "id": "view-in-github",
        "colab_type": "text"
      },
      "source": [
        "<a href=\"https://colab.research.google.com/github/aadomingos/energyUsageInsights/blob/master/tempNormalizedUsage.ipynb\" target=\"_parent\"><img src=\"https://colab.research.google.com/assets/colab-badge.svg\" alt=\"Open In Colab\"/></a>"
      ]
    },
    {
      "cell_type": "markdown",
      "metadata": {
        "id": "lVDDyWR4RuJV",
        "colab_type": "text"
      },
      "source": [
        "# Notebook Setup"
      ]
    },
    {
      "cell_type": "markdown",
      "metadata": {
        "id": "Me1el057O5DN",
        "colab_type": "text"
      },
      "source": [
        "To start, set up the notebook with the basic required libraries and to access the data."
      ]
    },
    {
      "cell_type": "code",
      "metadata": {
        "id": "WFpK1-XmMNEO",
        "colab_type": "code",
        "colab": {
          "base_uri": "https://localhost:8080/",
          "height": 71
        },
        "outputId": "d7ef16a9-ce18-4caf-d026-094abbd6ad90"
      },
      "source": [
        "# python imports\n",
        "import pandas as pd\n",
        "import numpy as np\n",
        "import datetime\n",
        "import pytz\n",
        "import json\n",
        "\n",
        "# graphic imports\n",
        "import matplotlib.pyplot as plt\n",
        "import seaborn as sns"
      ],
      "execution_count": 214,
      "outputs": [
        {
          "output_type": "stream",
          "text": [
            "/usr/local/lib/python3.6/dist-packages/statsmodels/tools/_testing.py:19: FutureWarning: pandas.util.testing is deprecated. Use the functions in the public API at pandas.testing instead.\n",
            "  import pandas.util.testing as tm\n"
          ],
          "name": "stderr"
        }
      ]
    },
    {
      "cell_type": "code",
      "metadata": {
        "id": "aay7b_ZmNX2F",
        "colab_type": "code",
        "colab": {}
      },
      "source": [
        "# mount your Google Drive to access files\n",
        "from google.colab import drive\n",
        "drive.mount('/content/drive')"
      ],
      "execution_count": null,
      "outputs": []
    },
    {
      "cell_type": "code",
      "metadata": {
        "id": "A6ofRRzNNpQb",
        "colab_type": "code",
        "colab": {}
      },
      "source": [
        "# write path to your Google Drive folder that contains the data\n",
        "usagePath = '/content/drive/My Drive/Colab Notebooks/data/SRP/hourlyUsage.csv'"
      ],
      "execution_count": 177,
      "outputs": []
    },
    {
      "cell_type": "markdown",
      "metadata": {
        "id": "ubCEiAUmR7Li",
        "colab_type": "text"
      },
      "source": [
        "# Import and Setup Data"
      ]
    },
    {
      "cell_type": "markdown",
      "metadata": {
        "id": "Wl9S-i4KPQPr",
        "colab_type": "text"
      },
      "source": [
        "Import the data."
      ]
    },
    {
      "cell_type": "code",
      "metadata": {
        "id": "5ObI0OAtMzo5",
        "colab_type": "code",
        "colab": {
          "base_uri": "https://localhost:8080/",
          "height": 646
        },
        "outputId": "3eb0893c-7f8e-4c40-e3fb-b60049618104"
      },
      "source": [
        "# read usage data into pandas dataframe\n",
        "usageData_df = pd.read_csv(usagePath)\n",
        "\n",
        "# get info about the dataframe\n",
        "print(usageData_df.info())\n",
        "\n",
        "# check the first few rows of the dataframe\n",
        "print(usageData_df.head(5))"
      ],
      "execution_count": 178,
      "outputs": [
        {
          "output_type": "stream",
          "text": [
            "<class 'pandas.core.frame.DataFrame'>\n",
            "RangeIndex: 9528 entries, 0 to 9527\n",
            "Data columns (total 3 columns):\n",
            " #   Column      Non-Null Count  Dtype  \n",
            "---  ------      --------------  -----  \n",
            " 0   Usage date  9528 non-null   object \n",
            " 1   Interval    9528 non-null   object \n",
            " 2   Total kWh   9528 non-null   float64\n",
            "dtypes: float64(1), object(2)\n",
            "memory usage: 223.4+ KB\n",
            "None\n",
            "   Usage date Interval  Total kWh\n",
            "0    7/1/2019  12:0 am        1.1\n",
            "1    7/1/2019   1:0 am        0.4\n",
            "2    7/1/2019   2:0 am        1.0\n",
            "3    7/1/2019   3:0 am        0.9\n",
            "4    7/1/2019   4:0 am        0.3\n",
            "5    7/1/2019   5:0 am        0.3\n",
            "6    7/1/2019   6:0 am        0.8\n",
            "7    7/1/2019   7:0 am        0.3\n",
            "8    7/1/2019   8:0 am        0.8\n",
            "9    7/1/2019   9:0 am        1.0\n",
            "10   7/1/2019  10:0 am        1.1\n",
            "11   7/1/2019  11:0 am        1.6\n",
            "12   7/1/2019  12:0 pm        1.8\n",
            "13   7/1/2019   1:0 pm        1.3\n",
            "14   7/1/2019   2:0 pm        2.2\n",
            "15   7/1/2019   3:0 pm        1.4\n",
            "16   7/1/2019   4:0 pm        1.3\n",
            "17   7/1/2019   5:0 pm        1.9\n",
            "18   7/1/2019   6:0 pm        1.3\n",
            "19   7/1/2019   7:0 pm        1.1\n",
            "20   7/1/2019   8:0 pm        1.2\n",
            "21   7/1/2019   9:0 pm        1.3\n",
            "22   7/1/2019  10:0 pm        1.2\n",
            "23   7/1/2019  11:0 pm        1.1\n",
            "24   7/2/2019  12:0 am        1.0\n"
          ],
          "name": "stdout"
        }
      ]
    },
    {
      "cell_type": "markdown",
      "metadata": {
        "id": "qFVvtHL6pupB",
        "colab_type": "text"
      },
      "source": [
        "Transform the dataframe to be later used in eeMeter."
      ]
    },
    {
      "cell_type": "code",
      "metadata": {
        "id": "7ZjGqTYsO1bV",
        "colab_type": "code",
        "colab": {}
      },
      "source": [
        "# combine the usage date and interval columns for eeMeter\n",
        "usageData_df['start'] = usageData_df['Usage date'] + ' ' + usageData_df['Interval']\n",
        "\n",
        "# convert the concatenated column to a datetime object\n",
        "usageData_df['start'] = pd.to_datetime(usageData_df['start'], infer_datetime_format=True)\n",
        "\n",
        "# create a datetime index for the dataframe from the datetime column and resample to set the frequency\n",
        "usageData_df = usageData_df.set_index(pd.DatetimeIndex(usageData_df['start'], tz='America/Phoenix'))\\\n",
        "    .resample('H').mean()\n",
        "\n",
        "# set the timezone to UTC\n",
        "usageData_df = usageData_df.tz_convert('UTC')"
      ],
      "execution_count": 184,
      "outputs": []
    },
    {
      "cell_type": "code",
      "metadata": {
        "id": "SKQT7dWqmdbA",
        "colab_type": "code",
        "colab": {}
      },
      "source": [
        "# change column name for eeMeter (to be used later)\n",
        "usageData_df.rename(columns={'Total kWh':'value'}, inplace=True)"
      ],
      "execution_count": 189,
      "outputs": []
    },
    {
      "cell_type": "markdown",
      "metadata": {
        "id": "4PjREbe0vHFD",
        "colab_type": "text"
      },
      "source": [
        "# Import Weather From eeWeather"
      ]
    },
    {
      "cell_type": "markdown",
      "metadata": {
        "id": "pH4Zsdmiw8EW",
        "colab_type": "text"
      },
      "source": [
        "Install and import eeWeather."
      ]
    },
    {
      "cell_type": "code",
      "metadata": {
        "id": "p3w5-E96ZNg_",
        "colab_type": "code",
        "colab": {
          "base_uri": "https://localhost:8080/",
          "height": 377
        },
        "outputId": "e13ee070-9cec-4fb4-d231-3433360f984a"
      },
      "source": [
        "# install eeWeather\n",
        "!pip install eeweather"
      ],
      "execution_count": 136,
      "outputs": [
        {
          "output_type": "stream",
          "text": [
            "Collecting eeweather\n",
            "\u001b[?25l  Downloading https://files.pythonhosted.org/packages/db/19/4b396e4d26fca7319e6735d50eeb70f622a97820e0310293ac504a5f69d6/eeweather-0.3.23-py2.py3-none-any.whl (4.1MB)\n",
            "\u001b[K     |████████████████████████████████| 4.1MB 8.2MB/s \n",
            "\u001b[?25hRequirement already satisfied: shapely in /usr/local/lib/python3.6/dist-packages (from eeweather) (1.7.0)\n",
            "Requirement already satisfied: click in /usr/local/lib/python3.6/dist-packages (from eeweather) (7.1.2)\n",
            "Collecting pyproj>=1.9.6\n",
            "\u001b[?25l  Downloading https://files.pythonhosted.org/packages/e5/c3/071e080230ac4b6c64f1a2e2f9161c9737a2bc7b683d2c90b024825000c0/pyproj-2.6.1.post1-cp36-cp36m-manylinux2010_x86_64.whl (10.9MB)\n",
            "\u001b[K     |████████████████████████████████| 10.9MB 53.0MB/s \n",
            "\u001b[?25hRequirement already satisfied: pandas in /usr/local/lib/python3.6/dist-packages (from eeweather) (1.0.5)\n",
            "Requirement already satisfied: requests in /usr/local/lib/python3.6/dist-packages (from eeweather) (2.23.0)\n",
            "Requirement already satisfied: python-dateutil>=2.6.1 in /usr/local/lib/python3.6/dist-packages (from pandas->eeweather) (2.8.1)\n",
            "Requirement already satisfied: pytz>=2017.2 in /usr/local/lib/python3.6/dist-packages (from pandas->eeweather) (2018.9)\n",
            "Requirement already satisfied: numpy>=1.13.3 in /usr/local/lib/python3.6/dist-packages (from pandas->eeweather) (1.18.5)\n",
            "Requirement already satisfied: idna<3,>=2.5 in /usr/local/lib/python3.6/dist-packages (from requests->eeweather) (2.10)\n",
            "Requirement already satisfied: chardet<4,>=3.0.2 in /usr/local/lib/python3.6/dist-packages (from requests->eeweather) (3.0.4)\n",
            "Requirement already satisfied: certifi>=2017.4.17 in /usr/local/lib/python3.6/dist-packages (from requests->eeweather) (2020.6.20)\n",
            "Requirement already satisfied: urllib3!=1.25.0,!=1.25.1,<1.26,>=1.21.1 in /usr/local/lib/python3.6/dist-packages (from requests->eeweather) (1.24.3)\n",
            "Requirement already satisfied: six>=1.5 in /usr/local/lib/python3.6/dist-packages (from python-dateutil>=2.6.1->pandas->eeweather) (1.15.0)\n",
            "Installing collected packages: pyproj, eeweather\n",
            "Successfully installed eeweather-0.3.23 pyproj-2.6.1.post1\n"
          ],
          "name": "stdout"
        }
      ]
    },
    {
      "cell_type": "code",
      "metadata": {
        "id": "_sX1949YZN84",
        "colab_type": "code",
        "colab": {}
      },
      "source": [
        "# import eeWeather\n",
        "import eeweather"
      ],
      "execution_count": 137,
      "outputs": []
    },
    {
      "cell_type": "markdown",
      "metadata": {
        "id": "GgazsAAexA44",
        "colab_type": "text"
      },
      "source": [
        "Find weather for the energy meter zip code."
      ]
    },
    {
      "cell_type": "code",
      "metadata": {
        "id": "vcCp-G3lZNoW",
        "colab_type": "code",
        "colab": {
          "base_uri": "https://localhost:8080/",
          "height": 34
        },
        "outputId": "f98f82c6-abd8-438e-efde-114774b53421"
      },
      "source": [
        "# convert zip code/ZCTA to coordinates\n",
        "lat, lng = eeweather.zcta_to_lat_long('85008')"
      ],
      "execution_count": 138,
      "outputs": [
        {
          "output_type": "execute_result",
          "data": {
            "text/plain": [
              "(33.4633068576417, -111.986759396784)"
            ]
          },
          "metadata": {
            "tags": []
          },
          "execution_count": 138
        }
      ]
    },
    {
      "cell_type": "code",
      "metadata": {
        "id": "r_YJTQUBZNZB",
        "colab_type": "code",
        "colab": {
          "base_uri": "https://localhost:8080/",
          "height": 410
        },
        "outputId": "74a25f60-9240-4a6a-b5ae-995fac158564"
      },
      "source": [
        "# rank stations by distance from zip code/ZCTA\n",
        "rankedStations_df = eeweather.rank_stations(lat, lng)\n",
        "rankedStations_df.head(10)"
      ],
      "execution_count": 193,
      "outputs": [
        {
          "output_type": "execute_result",
          "data": {
            "text/html": [
              "<div>\n",
              "<style scoped>\n",
              "    .dataframe tbody tr th:only-of-type {\n",
              "        vertical-align: middle;\n",
              "    }\n",
              "\n",
              "    .dataframe tbody tr th {\n",
              "        vertical-align: top;\n",
              "    }\n",
              "\n",
              "    .dataframe thead th {\n",
              "        text-align: right;\n",
              "    }\n",
              "</style>\n",
              "<table border=\"1\" class=\"dataframe\">\n",
              "  <thead>\n",
              "    <tr style=\"text-align: right;\">\n",
              "      <th></th>\n",
              "      <th>rank</th>\n",
              "      <th>distance_meters</th>\n",
              "      <th>latitude</th>\n",
              "      <th>longitude</th>\n",
              "      <th>iecc_climate_zone</th>\n",
              "      <th>iecc_moisture_regime</th>\n",
              "      <th>ba_climate_zone</th>\n",
              "      <th>ca_climate_zone</th>\n",
              "      <th>rough_quality</th>\n",
              "      <th>elevation</th>\n",
              "      <th>state</th>\n",
              "      <th>tmy3_class</th>\n",
              "      <th>is_tmy3</th>\n",
              "      <th>is_cz2010</th>\n",
              "      <th>difference_elevation_meters</th>\n",
              "    </tr>\n",
              "    <tr>\n",
              "      <th>usaf_id</th>\n",
              "      <th></th>\n",
              "      <th></th>\n",
              "      <th></th>\n",
              "      <th></th>\n",
              "      <th></th>\n",
              "      <th></th>\n",
              "      <th></th>\n",
              "      <th></th>\n",
              "      <th></th>\n",
              "      <th></th>\n",
              "      <th></th>\n",
              "      <th></th>\n",
              "      <th></th>\n",
              "      <th></th>\n",
              "      <th></th>\n",
              "    </tr>\n",
              "  </thead>\n",
              "  <tbody>\n",
              "    <tr>\n",
              "      <th>722780</th>\n",
              "      <td>1</td>\n",
              "      <td>4231.377100</td>\n",
              "      <td>33.428</td>\n",
              "      <td>-112.004</td>\n",
              "      <td>2</td>\n",
              "      <td>B</td>\n",
              "      <td>Hot-Dry</td>\n",
              "      <td>None</td>\n",
              "      <td>high</td>\n",
              "      <td>337.4</td>\n",
              "      <td>AZ</td>\n",
              "      <td>I</td>\n",
              "      <td>True</td>\n",
              "      <td>False</td>\n",
              "      <td>None</td>\n",
              "    </tr>\n",
              "    <tr>\n",
              "      <th>722789</th>\n",
              "      <td>2</td>\n",
              "      <td>19058.646831</td>\n",
              "      <td>33.623</td>\n",
              "      <td>-111.911</td>\n",
              "      <td>2</td>\n",
              "      <td>B</td>\n",
              "      <td>Hot-Dry</td>\n",
              "      <td>None</td>\n",
              "      <td>high</td>\n",
              "      <td>449.0</td>\n",
              "      <td>AZ</td>\n",
              "      <td>II</td>\n",
              "      <td>True</td>\n",
              "      <td>False</td>\n",
              "      <td>None</td>\n",
              "    </tr>\n",
              "    <tr>\n",
              "      <th>722783</th>\n",
              "      <td>3</td>\n",
              "      <td>23592.962364</td>\n",
              "      <td>33.467</td>\n",
              "      <td>-111.733</td>\n",
              "      <td>2</td>\n",
              "      <td>B</td>\n",
              "      <td>Hot-Dry</td>\n",
              "      <td>None</td>\n",
              "      <td>low</td>\n",
              "      <td>420.6</td>\n",
              "      <td>AZ</td>\n",
              "      <td>None</td>\n",
              "      <td>False</td>\n",
              "      <td>False</td>\n",
              "      <td>None</td>\n",
              "    </tr>\n",
              "    <tr>\n",
              "      <th>722784</th>\n",
              "      <td>4</td>\n",
              "      <td>26443.924819</td>\n",
              "      <td>33.688</td>\n",
              "      <td>-112.082</td>\n",
              "      <td>2</td>\n",
              "      <td>B</td>\n",
              "      <td>Hot-Dry</td>\n",
              "      <td>None</td>\n",
              "      <td>high</td>\n",
              "      <td>443.5</td>\n",
              "      <td>AZ</td>\n",
              "      <td>II</td>\n",
              "      <td>True</td>\n",
              "      <td>False</td>\n",
              "      <td>None</td>\n",
              "    </tr>\n",
              "    <tr>\n",
              "      <th>722749</th>\n",
              "      <td>5</td>\n",
              "      <td>26943.183693</td>\n",
              "      <td>33.269</td>\n",
              "      <td>-111.813</td>\n",
              "      <td>2</td>\n",
              "      <td>B</td>\n",
              "      <td>Hot-Dry</td>\n",
              "      <td>None</td>\n",
              "      <td>medium</td>\n",
              "      <td>378.9</td>\n",
              "      <td>AZ</td>\n",
              "      <td>None</td>\n",
              "      <td>False</td>\n",
              "      <td>False</td>\n",
              "      <td>None</td>\n",
              "    </tr>\n",
              "    <tr>\n",
              "      <th>722787</th>\n",
              "      <td>6</td>\n",
              "      <td>29502.363911</td>\n",
              "      <td>33.527</td>\n",
              "      <td>-112.295</td>\n",
              "      <td>2</td>\n",
              "      <td>B</td>\n",
              "      <td>Hot-Dry</td>\n",
              "      <td>None</td>\n",
              "      <td>medium</td>\n",
              "      <td>324.9</td>\n",
              "      <td>AZ</td>\n",
              "      <td>None</td>\n",
              "      <td>False</td>\n",
              "      <td>False</td>\n",
              "      <td>None</td>\n",
              "    </tr>\n",
              "    <tr>\n",
              "      <th>722786</th>\n",
              "      <td>7</td>\n",
              "      <td>34832.708252</td>\n",
              "      <td>33.300</td>\n",
              "      <td>-111.667</td>\n",
              "      <td>2</td>\n",
              "      <td>B</td>\n",
              "      <td>Hot-Dry</td>\n",
              "      <td>None</td>\n",
              "      <td>high</td>\n",
              "      <td>421.2</td>\n",
              "      <td>AZ</td>\n",
              "      <td>None</td>\n",
              "      <td>False</td>\n",
              "      <td>False</td>\n",
              "      <td>None</td>\n",
              "    </tr>\n",
              "    <tr>\n",
              "      <th>722785</th>\n",
              "      <td>8</td>\n",
              "      <td>36615.287081</td>\n",
              "      <td>33.550</td>\n",
              "      <td>-112.367</td>\n",
              "      <td>2</td>\n",
              "      <td>B</td>\n",
              "      <td>Hot-Dry</td>\n",
              "      <td>None</td>\n",
              "      <td>medium</td>\n",
              "      <td>330.7</td>\n",
              "      <td>AZ</td>\n",
              "      <td>II</td>\n",
              "      <td>True</td>\n",
              "      <td>False</td>\n",
              "      <td>None</td>\n",
              "    </tr>\n",
              "    <tr>\n",
              "      <th>722788</th>\n",
              "      <td>9</td>\n",
              "      <td>37201.220560</td>\n",
              "      <td>33.417</td>\n",
              "      <td>-112.383</td>\n",
              "      <td>2</td>\n",
              "      <td>B</td>\n",
              "      <td>Hot-Dry</td>\n",
              "      <td>None</td>\n",
              "      <td>medium</td>\n",
              "      <td>295.1</td>\n",
              "      <td>AZ</td>\n",
              "      <td>None</td>\n",
              "      <td>False</td>\n",
              "      <td>False</td>\n",
              "      <td>None</td>\n",
              "    </tr>\n",
              "    <tr>\n",
              "      <th>722748</th>\n",
              "      <td>10</td>\n",
              "      <td>60504.676718</td>\n",
              "      <td>32.950</td>\n",
              "      <td>-111.767</td>\n",
              "      <td>2</td>\n",
              "      <td>B</td>\n",
              "      <td>Hot-Dry</td>\n",
              "      <td>None</td>\n",
              "      <td>low</td>\n",
              "      <td>445.6</td>\n",
              "      <td>AZ</td>\n",
              "      <td>III</td>\n",
              "      <td>True</td>\n",
              "      <td>False</td>\n",
              "      <td>None</td>\n",
              "    </tr>\n",
              "  </tbody>\n",
              "</table>\n",
              "</div>"
            ],
            "text/plain": [
              "         rank  distance_meters  ...  is_cz2010  difference_elevation_meters\n",
              "usaf_id                         ...                                        \n",
              "722780      1      4231.377100  ...      False                         None\n",
              "722789      2     19058.646831  ...      False                         None\n",
              "722783      3     23592.962364  ...      False                         None\n",
              "722784      4     26443.924819  ...      False                         None\n",
              "722749      5     26943.183693  ...      False                         None\n",
              "722787      6     29502.363911  ...      False                         None\n",
              "722786      7     34832.708252  ...      False                         None\n",
              "722785      8     36615.287081  ...      False                         None\n",
              "722788      9     37201.220560  ...      False                         None\n",
              "722748     10     60504.676718  ...      False                         None\n",
              "\n",
              "[10 rows x 15 columns]"
            ]
          },
          "metadata": {
            "tags": []
          },
          "execution_count": 193
        }
      ]
    },
    {
      "cell_type": "code",
      "metadata": {
        "id": "KiytrsQsZ2y8",
        "colab_type": "code",
        "colab": {
          "base_uri": "https://localhost:8080/",
          "height": 51
        },
        "outputId": "493e0eae-dc9f-4127-b379-a79499751bfa"
      },
      "source": [
        "# select station with rank 1\n",
        "selectedStation, warnings = eeweather.select_station(rankedStations_df)\n",
        "\n",
        "# print weather station ID and warnings\n",
        "print('This is the selected weather station: ISD', selectedStation)\n",
        "print('These are the warnings for this station:', warnings)"
      ],
      "execution_count": 197,
      "outputs": [
        {
          "output_type": "stream",
          "text": [
            "This is the selected weather station: ISD 722780\n",
            "These are the warnings for this station: []\n"
          ],
          "name": "stdout"
        }
      ]
    },
    {
      "cell_type": "code",
      "metadata": {
        "id": "ToQZNn8cZ4pv",
        "colab_type": "code",
        "colab": {
          "base_uri": "https://localhost:8080/",
          "height": 224
        },
        "outputId": "1aefefc4-d753-4096-f1b8-5d0493f5a978"
      },
      "source": [
        "# find only high quality weather stations that match the station above\n",
        "highQualityStations_df = eeweather.rank_stations(\n",
        "    lat, lng,\n",
        "    match_iecc_climate_zone=True,\n",
        "    match_iecc_moisture_regime=True,\n",
        "    match_ba_climate_zone=True,\n",
        "    match_ca_climate_zone=True,\n",
        "    minimum_quality='high',  # find stations with reported high frequency data\n",
        "    is_tmy3=True,            # find stations with TMY3 normal year data\n",
        ")\n",
        "\n",
        "highQualityStations_df.head()"
      ],
      "execution_count": 201,
      "outputs": [
        {
          "output_type": "execute_result",
          "data": {
            "text/html": [
              "<div>\n",
              "<style scoped>\n",
              "    .dataframe tbody tr th:only-of-type {\n",
              "        vertical-align: middle;\n",
              "    }\n",
              "\n",
              "    .dataframe tbody tr th {\n",
              "        vertical-align: top;\n",
              "    }\n",
              "\n",
              "    .dataframe thead th {\n",
              "        text-align: right;\n",
              "    }\n",
              "</style>\n",
              "<table border=\"1\" class=\"dataframe\">\n",
              "  <thead>\n",
              "    <tr style=\"text-align: right;\">\n",
              "      <th></th>\n",
              "      <th>rank</th>\n",
              "      <th>distance_meters</th>\n",
              "      <th>latitude</th>\n",
              "      <th>longitude</th>\n",
              "      <th>iecc_climate_zone</th>\n",
              "      <th>iecc_moisture_regime</th>\n",
              "      <th>ba_climate_zone</th>\n",
              "      <th>ca_climate_zone</th>\n",
              "      <th>rough_quality</th>\n",
              "      <th>elevation</th>\n",
              "      <th>state</th>\n",
              "      <th>tmy3_class</th>\n",
              "      <th>is_tmy3</th>\n",
              "      <th>is_cz2010</th>\n",
              "      <th>difference_elevation_meters</th>\n",
              "    </tr>\n",
              "    <tr>\n",
              "      <th>usaf_id</th>\n",
              "      <th></th>\n",
              "      <th></th>\n",
              "      <th></th>\n",
              "      <th></th>\n",
              "      <th></th>\n",
              "      <th></th>\n",
              "      <th></th>\n",
              "      <th></th>\n",
              "      <th></th>\n",
              "      <th></th>\n",
              "      <th></th>\n",
              "      <th></th>\n",
              "      <th></th>\n",
              "      <th></th>\n",
              "      <th></th>\n",
              "    </tr>\n",
              "  </thead>\n",
              "  <tbody>\n",
              "    <tr>\n",
              "      <th>722780</th>\n",
              "      <td>1</td>\n",
              "      <td>4231.377100</td>\n",
              "      <td>33.428</td>\n",
              "      <td>-112.004</td>\n",
              "      <td>2</td>\n",
              "      <td>B</td>\n",
              "      <td>Hot-Dry</td>\n",
              "      <td>None</td>\n",
              "      <td>high</td>\n",
              "      <td>337.4</td>\n",
              "      <td>AZ</td>\n",
              "      <td>I</td>\n",
              "      <td>True</td>\n",
              "      <td>False</td>\n",
              "      <td>None</td>\n",
              "    </tr>\n",
              "    <tr>\n",
              "      <th>722789</th>\n",
              "      <td>2</td>\n",
              "      <td>19058.646831</td>\n",
              "      <td>33.623</td>\n",
              "      <td>-111.911</td>\n",
              "      <td>2</td>\n",
              "      <td>B</td>\n",
              "      <td>Hot-Dry</td>\n",
              "      <td>None</td>\n",
              "      <td>high</td>\n",
              "      <td>449.0</td>\n",
              "      <td>AZ</td>\n",
              "      <td>II</td>\n",
              "      <td>True</td>\n",
              "      <td>False</td>\n",
              "      <td>None</td>\n",
              "    </tr>\n",
              "    <tr>\n",
              "      <th>722784</th>\n",
              "      <td>3</td>\n",
              "      <td>26443.924819</td>\n",
              "      <td>33.688</td>\n",
              "      <td>-112.082</td>\n",
              "      <td>2</td>\n",
              "      <td>B</td>\n",
              "      <td>Hot-Dry</td>\n",
              "      <td>None</td>\n",
              "      <td>high</td>\n",
              "      <td>443.5</td>\n",
              "      <td>AZ</td>\n",
              "      <td>II</td>\n",
              "      <td>True</td>\n",
              "      <td>False</td>\n",
              "      <td>None</td>\n",
              "    </tr>\n",
              "    <tr>\n",
              "      <th>722740</th>\n",
              "      <td>4</td>\n",
              "      <td>176549.590786</td>\n",
              "      <td>32.131</td>\n",
              "      <td>-110.955</td>\n",
              "      <td>2</td>\n",
              "      <td>B</td>\n",
              "      <td>Hot-Dry</td>\n",
              "      <td>None</td>\n",
              "      <td>high</td>\n",
              "      <td>776.9</td>\n",
              "      <td>AZ</td>\n",
              "      <td>I</td>\n",
              "      <td>True</td>\n",
              "      <td>False</td>\n",
              "      <td>None</td>\n",
              "    </tr>\n",
              "  </tbody>\n",
              "</table>\n",
              "</div>"
            ],
            "text/plain": [
              "         rank  distance_meters  ...  is_cz2010  difference_elevation_meters\n",
              "usaf_id                         ...                                        \n",
              "722780      1      4231.377100  ...      False                         None\n",
              "722789      2     19058.646831  ...      False                         None\n",
              "722784      3     26443.924819  ...      False                         None\n",
              "722740      4    176549.590786  ...      False                         None\n",
              "\n",
              "[4 rows x 15 columns]"
            ]
          },
          "metadata": {
            "tags": []
          },
          "execution_count": 201
        }
      ]
    },
    {
      "cell_type": "code",
      "metadata": {
        "id": "uV6ptinqZ4d9",
        "colab_type": "code",
        "colab": {
          "base_uri": "https://localhost:8080/",
          "height": 68
        },
        "outputId": "8678827b-3a81-4f86-9a63-1544a5acb16b"
      },
      "source": [
        "# this is the timezone where this energy usage originated\n",
        "phoenix = pytz.timezone('America/Phoenix')\n",
        "\n",
        "# format for timestamps\n",
        "fmt = '%Y-%m-%d %H:%M %Z%z'\n",
        "\n",
        "# start date for weather data (start date for energy usage)\n",
        "start_date = datetime.datetime(2019, 7, 1, 0, 0, tzinfo=phoenix)\n",
        "start_date = start_date.astimezone(pytz.timezone('UTC'))\n",
        "\n",
        "# end date for weather data (end date for energy usage)\n",
        "end_date = datetime.datetime(2020, 7, 31, 23, 0, tzinfo=phoenix)\n",
        "end_date = end_date.astimezone(pytz.timezone('UTC'))\n",
        "\n",
        "# find the weather station with the highest coverage\n",
        "station, warnings = eeweather.select_station(\n",
        "    highQualityStations_df,\n",
        "    coverage_range=(start_date, end_date),\n",
        "    min_fraction_coverage=0.99,\n",
        "    rank=1\n",
        ")\n",
        "\n",
        "print('weather statioin ID ', station)\n",
        "print('start date ', start_date.strftime(fmt))\n",
        "print('end date ', end_date.strftime(fmt))"
      ],
      "execution_count": 202,
      "outputs": [
        {
          "output_type": "stream",
          "text": [
            "weather statioin ID  722780\n",
            "start date  2019-07-01 07:28 UTC+0000\n",
            "end date  2020-08-01 06:28 UTC+0000\n"
          ],
          "name": "stdout"
        }
      ]
    },
    {
      "cell_type": "code",
      "metadata": {
        "id": "vG40817pxgeP",
        "colab_type": "code",
        "colab": {
          "base_uri": "https://localhost:8080/",
          "height": 289
        },
        "outputId": "f54bfddb-d06c-4898-cab2-eed11d4ed838"
      },
      "source": [
        "# check weather station meta-data\n",
        "highQualityStations_df.loc[station.usaf_id]\n",
        "# print(json.dumps(station.json(), indent=2))"
      ],
      "execution_count": 213,
      "outputs": [
        {
          "output_type": "execute_result",
          "data": {
            "text/plain": [
              "rank                                 1\n",
              "distance_meters                4231.38\n",
              "latitude                        33.428\n",
              "longitude                     -112.004\n",
              "iecc_climate_zone                    2\n",
              "iecc_moisture_regime                 B\n",
              "ba_climate_zone                Hot-Dry\n",
              "ca_climate_zone                   None\n",
              "rough_quality                     high\n",
              "elevation                        337.4\n",
              "state                               AZ\n",
              "tmy3_class                           I\n",
              "is_tmy3                           True\n",
              "is_cz2010                        False\n",
              "difference_elevation_meters       None\n",
              "Name: 722780, dtype: object"
            ]
          },
          "metadata": {
            "tags": []
          },
          "execution_count": 213
        }
      ]
    },
    {
      "cell_type": "code",
      "metadata": {
        "id": "XS4aB86cxgso",
        "colab_type": "code",
        "colab": {
          "base_uri": "https://localhost:8080/",
          "height": 292
        },
        "outputId": "b8694ff8-ecc5-4ae7-b2ca-e4956e67fca9"
      },
      "source": [
        "# plot the temperature\n",
        "\n",
        "#get temperature from weather station\n",
        "temp_C = station.load_isd_hourly_temp_data(start_date, end_date)\n",
        "\n",
        "# convert from Celsius to Fahrenheit\n",
        "tempF = temp_C[0].mul(1.8).add(32)\n",
        "tempF.index.rename('dt', inplace=True)\n",
        "tempF.rename('tempF', inplace=True)\n",
        "\n",
        "# plot temperature for visualization\n",
        "sns.lineplot(data=tempF)\n",
        "plt.xticks(rotation=15)\n",
        "plt.title('seaborn-matplotlib example')\n",
        "plt.show()"
      ],
      "execution_count": 276,
      "outputs": [
        {
          "output_type": "display_data",
          "data": {
            "image/png": "[encoded data removed]",
            "text/plain": [
              "<Figure size 432x288 with 1 Axes>"
            ]
          },
          "metadata": {
            "tags": []
          }
        }
      ]
    },
    {
      "cell_type": "markdown",
      "metadata": {
        "id": "NIJz02uGgq9K",
        "colab_type": "text"
      },
      "source": [
        "# Import eeMeter"
      ]
    },
    {
      "cell_type": "code",
      "metadata": {
        "id": "zHcmFKtdNJZn",
        "colab_type": "code",
        "colab": {
          "base_uri": "https://localhost:8080/",
          "height": 275
        },
        "outputId": "221a51b0-71c8-4129-9e2f-d77edcaf8210"
      },
      "source": [
        "# install eemeter\n",
        "!pip install eemeter"
      ],
      "execution_count": 8,
      "outputs": [
        {
          "output_type": "stream",
          "text": [
            "Collecting eemeter\n",
            "\u001b[?25l  Downloading https://files.pythonhosted.org/packages/31/df/09161eab1e0e004182b9a8c9f0159663fe3c8be6f00b0bed38c3297856e8/eemeter-2.9.2-py2.py3-none-any.whl (583kB)\n",
            "\u001b[K     |████████████████████████████████| 583kB 8.2MB/s \n",
            "\u001b[?25hRequirement already satisfied: click in /usr/local/lib/python3.6/dist-packages (from eemeter) (7.1.2)\n",
            "Requirement already satisfied: scipy in /usr/local/lib/python3.6/dist-packages (from eemeter) (1.4.1)\n",
            "Requirement already satisfied: pandas in /usr/local/lib/python3.6/dist-packages (from eemeter) (1.0.5)\n",
            "Requirement already satisfied: statsmodels in /usr/local/lib/python3.6/dist-packages (from eemeter) (0.10.2)\n",
            "Requirement already satisfied: numpy>=1.13.3 in /usr/local/lib/python3.6/dist-packages (from scipy->eemeter) (1.18.5)\n",
            "Requirement already satisfied: python-dateutil>=2.6.1 in /usr/local/lib/python3.6/dist-packages (from pandas->eemeter) (2.8.1)\n",
            "Requirement already satisfied: pytz>=2017.2 in /usr/local/lib/python3.6/dist-packages (from pandas->eemeter) (2018.9)\n",
            "Requirement already satisfied: patsy>=0.4.0 in /usr/local/lib/python3.6/dist-packages (from statsmodels->eemeter) (0.5.1)\n",
            "Requirement already satisfied: six>=1.5 in /usr/local/lib/python3.6/dist-packages (from python-dateutil>=2.6.1->pandas->eemeter) (1.15.0)\n",
            "Installing collected packages: eemeter\n",
            "Successfully installed eemeter-2.9.2\n"
          ],
          "name": "stdout"
        }
      ]
    },
    {
      "cell_type": "code",
      "metadata": {
        "id": "x_O1bCwaN8-J",
        "colab_type": "code",
        "colab": {}
      },
      "source": [
        "# import eeMeter\n",
        "import eemeter"
      ],
      "execution_count": 320,
      "outputs": []
    },
    {
      "cell_type": "code",
      "metadata": {
        "id": "q6auzAD-g0tU",
        "colab_type": "code",
        "colab": {
          "base_uri": "https://localhost:8080/",
          "height": 322
        },
        "outputId": "3110df41-c86b-445a-a163-ebe9ed5cbab4"
      },
      "source": [
        "# visualizing energy and temperature usage\n",
        "eemeter.plot_time_series(usageData_df, tempF, figsize=(16, 4))"
      ],
      "execution_count": 321,
      "outputs": [
        {
          "output_type": "execute_result",
          "data": {
            "text/plain": [
              "(<matplotlib.axes._subplots.AxesSubplot at 0x7fbab39a0198>,\n",
              " <matplotlib.axes._subplots.AxesSubplot at 0x7fba9e275860>)"
            ]
          },
          "metadata": {
            "tags": []
          },
          "execution_count": 321
        },
        {
          "output_type": "display_data",
          "data": {
            "image/png": "[encoded data removed]",
            "text/plain": [
              "<Figure size 1152x288 with 2 Axes>"
            ]
          },
          "metadata": {
            "tags": []
          }
        }
      ]
    },
    {
      "cell_type": "code",
      "metadata": {
        "id": "etQVWzVUhGeZ",
        "colab_type": "code",
        "colab": {
          "base_uri": "https://localhost:8080/",
          "height": 514
        },
        "outputId": "9640ffa9-15ff-4a82-d640-542bb9fc9b51"
      },
      "source": [
        "ax = eemeter.plot_energy_signature(usageData_df, tempF, figsize=(14, 8))\n",
        "\n",
        "ax.legend(labels=['hourly'])"
      ],
      "execution_count": 322,
      "outputs": [
        {
          "output_type": "execute_result",
          "data": {
            "text/plain": [
              "<matplotlib.legend.Legend at 0x7fbab39a05f8>"
            ]
          },
          "metadata": {
            "tags": []
          },
          "execution_count": 322
        },
        {
          "output_type": "display_data",
          "data": {
            "image/png": "[encoded data removed]",
            "text/plain": [
              "<Figure size 1008x576 with 1 Axes>"
            ]
          },
          "metadata": {
            "tags": []
          }
        }
      ]
    },
    {
      "cell_type": "code",
      "metadata": {
        "id": "94Wl2waFiSva",
        "colab_type": "code",
        "colab": {}
      },
      "source": [
        "baseline_meter_data_daily_from_hourly = eemeter.clean_caltrack_billing_daily_data(usageData_df, 'hourly')\n",
        "\n",
        "design_matrix_daily = eemeter.create_caltrack_daily_design_matrix(\n",
        "    baseline_meter_data_daily_from_hourly, tempF)"
      ],
      "execution_count": 323,
      "outputs": []
    },
    {
      "cell_type": "code",
      "metadata": {
        "id": "NaXtuIa8imut",
        "colab_type": "code",
        "colab": {
          "base_uri": "https://localhost:8080/",
          "height": 338
        },
        "outputId": "fd538892-4238-42f1-bf64-d6f8fdc7b8a6"
      },
      "source": [
        "design_matrix_daily.head(5)"
      ],
      "execution_count": 324,
      "outputs": [
        {
          "output_type": "execute_result",
          "data": {
            "text/html": [
              "<div>\n",
              "<style scoped>\n",
              "    .dataframe tbody tr th:only-of-type {\n",
              "        vertical-align: middle;\n",
              "    }\n",
              "\n",
              "    .dataframe tbody tr th {\n",
              "        vertical-align: top;\n",
              "    }\n",
              "\n",
              "    .dataframe thead th {\n",
              "        text-align: right;\n",
              "    }\n",
              "</style>\n",
              "<table border=\"1\" class=\"dataframe\">\n",
              "  <thead>\n",
              "    <tr style=\"text-align: right;\">\n",
              "      <th></th>\n",
              "      <th>meter_value</th>\n",
              "      <th>temperature_not_null</th>\n",
              "      <th>temperature_null</th>\n",
              "      <th>temperature_mean</th>\n",
              "      <th>n_days_kept</th>\n",
              "      <th>n_days_dropped</th>\n",
              "      <th>cdd_30</th>\n",
              "      <th>cdd_31</th>\n",
              "      <th>cdd_32</th>\n",
              "      <th>cdd_33</th>\n",
              "      <th>cdd_34</th>\n",
              "      <th>cdd_35</th>\n",
              "      <th>cdd_36</th>\n",
              "      <th>cdd_37</th>\n",
              "      <th>cdd_38</th>\n",
              "      <th>cdd_39</th>\n",
              "      <th>cdd_40</th>\n",
              "      <th>cdd_41</th>\n",
              "      <th>cdd_42</th>\n",
              "      <th>cdd_43</th>\n",
              "      <th>cdd_44</th>\n",
              "      <th>cdd_45</th>\n",
              "      <th>cdd_46</th>\n",
              "      <th>cdd_47</th>\n",
              "      <th>cdd_48</th>\n",
              "      <th>cdd_49</th>\n",
              "      <th>cdd_50</th>\n",
              "      <th>cdd_51</th>\n",
              "      <th>cdd_52</th>\n",
              "      <th>cdd_53</th>\n",
              "      <th>cdd_54</th>\n",
              "      <th>cdd_55</th>\n",
              "      <th>cdd_56</th>\n",
              "      <th>cdd_57</th>\n",
              "      <th>cdd_58</th>\n",
              "      <th>cdd_59</th>\n",
              "      <th>cdd_60</th>\n",
              "      <th>cdd_61</th>\n",
              "      <th>cdd_62</th>\n",
              "      <th>cdd_63</th>\n",
              "      <th>...</th>\n",
              "      <th>hdd_51</th>\n",
              "      <th>hdd_52</th>\n",
              "      <th>hdd_53</th>\n",
              "      <th>hdd_54</th>\n",
              "      <th>hdd_55</th>\n",
              "      <th>hdd_56</th>\n",
              "      <th>hdd_57</th>\n",
              "      <th>hdd_58</th>\n",
              "      <th>hdd_59</th>\n",
              "      <th>hdd_60</th>\n",
              "      <th>hdd_61</th>\n",
              "      <th>hdd_62</th>\n",
              "      <th>hdd_63</th>\n",
              "      <th>hdd_64</th>\n",
              "      <th>hdd_65</th>\n",
              "      <th>hdd_66</th>\n",
              "      <th>hdd_67</th>\n",
              "      <th>hdd_68</th>\n",
              "      <th>hdd_69</th>\n",
              "      <th>hdd_70</th>\n",
              "      <th>hdd_71</th>\n",
              "      <th>hdd_72</th>\n",
              "      <th>hdd_73</th>\n",
              "      <th>hdd_74</th>\n",
              "      <th>hdd_75</th>\n",
              "      <th>hdd_76</th>\n",
              "      <th>hdd_77</th>\n",
              "      <th>hdd_78</th>\n",
              "      <th>hdd_79</th>\n",
              "      <th>hdd_80</th>\n",
              "      <th>hdd_81</th>\n",
              "      <th>hdd_82</th>\n",
              "      <th>hdd_83</th>\n",
              "      <th>hdd_84</th>\n",
              "      <th>hdd_85</th>\n",
              "      <th>hdd_86</th>\n",
              "      <th>hdd_87</th>\n",
              "      <th>hdd_88</th>\n",
              "      <th>hdd_89</th>\n",
              "      <th>hdd_90</th>\n",
              "    </tr>\n",
              "  </thead>\n",
              "  <tbody>\n",
              "    <tr>\n",
              "      <th>2019-07-01 00:00:00+00:00</th>\n",
              "      <td>24.847059</td>\n",
              "      <td>16.0</td>\n",
              "      <td>0.0</td>\n",
              "      <td>98.335569</td>\n",
              "      <td>1.0</td>\n",
              "      <td>0.0</td>\n",
              "      <td>68.335569</td>\n",
              "      <td>67.335569</td>\n",
              "      <td>66.335569</td>\n",
              "      <td>65.335569</td>\n",
              "      <td>64.335569</td>\n",
              "      <td>63.335569</td>\n",
              "      <td>62.335569</td>\n",
              "      <td>61.335569</td>\n",
              "      <td>60.335569</td>\n",
              "      <td>59.335569</td>\n",
              "      <td>58.335569</td>\n",
              "      <td>57.335569</td>\n",
              "      <td>56.335569</td>\n",
              "      <td>55.335569</td>\n",
              "      <td>54.335569</td>\n",
              "      <td>53.335569</td>\n",
              "      <td>52.335569</td>\n",
              "      <td>51.335569</td>\n",
              "      <td>50.335569</td>\n",
              "      <td>49.335569</td>\n",
              "      <td>48.335569</td>\n",
              "      <td>47.335569</td>\n",
              "      <td>46.335569</td>\n",
              "      <td>45.335569</td>\n",
              "      <td>44.335569</td>\n",
              "      <td>43.335569</td>\n",
              "      <td>42.335569</td>\n",
              "      <td>41.335569</td>\n",
              "      <td>40.335569</td>\n",
              "      <td>39.335569</td>\n",
              "      <td>38.335569</td>\n",
              "      <td>37.335569</td>\n",
              "      <td>36.335569</td>\n",
              "      <td>35.335569</td>\n",
              "      <td>...</td>\n",
              "      <td>0.0</td>\n",
              "      <td>0.0</td>\n",
              "      <td>0.0</td>\n",
              "      <td>0.0</td>\n",
              "      <td>0.0</td>\n",
              "      <td>0.0</td>\n",
              "      <td>0.0</td>\n",
              "      <td>0.0</td>\n",
              "      <td>0.0</td>\n",
              "      <td>0.0</td>\n",
              "      <td>0.0</td>\n",
              "      <td>0.0</td>\n",
              "      <td>0.0</td>\n",
              "      <td>0.0</td>\n",
              "      <td>0.0</td>\n",
              "      <td>0.0</td>\n",
              "      <td>0.0</td>\n",
              "      <td>0.0</td>\n",
              "      <td>0.0</td>\n",
              "      <td>0.0</td>\n",
              "      <td>0.0</td>\n",
              "      <td>0.0</td>\n",
              "      <td>0.0</td>\n",
              "      <td>0.0</td>\n",
              "      <td>0.0</td>\n",
              "      <td>0.0</td>\n",
              "      <td>0.0</td>\n",
              "      <td>0.0</td>\n",
              "      <td>0.0</td>\n",
              "      <td>0.0</td>\n",
              "      <td>0.0</td>\n",
              "      <td>0.0</td>\n",
              "      <td>0.0</td>\n",
              "      <td>0.0</td>\n",
              "      <td>0.0</td>\n",
              "      <td>0.0</td>\n",
              "      <td>0.0</td>\n",
              "      <td>0.0</td>\n",
              "      <td>0.0</td>\n",
              "      <td>0.0</td>\n",
              "    </tr>\n",
              "    <tr>\n",
              "      <th>2019-07-02 00:00:00+00:00</th>\n",
              "      <td>31.500000</td>\n",
              "      <td>24.0</td>\n",
              "      <td>0.0</td>\n",
              "      <td>97.495565</td>\n",
              "      <td>1.0</td>\n",
              "      <td>0.0</td>\n",
              "      <td>67.495565</td>\n",
              "      <td>66.495565</td>\n",
              "      <td>65.495565</td>\n",
              "      <td>64.495565</td>\n",
              "      <td>63.495565</td>\n",
              "      <td>62.495565</td>\n",
              "      <td>61.495565</td>\n",
              "      <td>60.495565</td>\n",
              "      <td>59.495565</td>\n",
              "      <td>58.495565</td>\n",
              "      <td>57.495565</td>\n",
              "      <td>56.495565</td>\n",
              "      <td>55.495565</td>\n",
              "      <td>54.495565</td>\n",
              "      <td>53.495565</td>\n",
              "      <td>52.495565</td>\n",
              "      <td>51.495565</td>\n",
              "      <td>50.495565</td>\n",
              "      <td>49.495565</td>\n",
              "      <td>48.495565</td>\n",
              "      <td>47.495565</td>\n",
              "      <td>46.495565</td>\n",
              "      <td>45.495565</td>\n",
              "      <td>44.495565</td>\n",
              "      <td>43.495565</td>\n",
              "      <td>42.495565</td>\n",
              "      <td>41.495565</td>\n",
              "      <td>40.495565</td>\n",
              "      <td>39.495565</td>\n",
              "      <td>38.495565</td>\n",
              "      <td>37.495565</td>\n",
              "      <td>36.495565</td>\n",
              "      <td>35.495565</td>\n",
              "      <td>34.495565</td>\n",
              "      <td>...</td>\n",
              "      <td>0.0</td>\n",
              "      <td>0.0</td>\n",
              "      <td>0.0</td>\n",
              "      <td>0.0</td>\n",
              "      <td>0.0</td>\n",
              "      <td>0.0</td>\n",
              "      <td>0.0</td>\n",
              "      <td>0.0</td>\n",
              "      <td>0.0</td>\n",
              "      <td>0.0</td>\n",
              "      <td>0.0</td>\n",
              "      <td>0.0</td>\n",
              "      <td>0.0</td>\n",
              "      <td>0.0</td>\n",
              "      <td>0.0</td>\n",
              "      <td>0.0</td>\n",
              "      <td>0.0</td>\n",
              "      <td>0.0</td>\n",
              "      <td>0.0</td>\n",
              "      <td>0.0</td>\n",
              "      <td>0.0</td>\n",
              "      <td>0.0</td>\n",
              "      <td>0.0</td>\n",
              "      <td>0.0</td>\n",
              "      <td>0.0</td>\n",
              "      <td>0.0</td>\n",
              "      <td>0.0</td>\n",
              "      <td>0.0</td>\n",
              "      <td>0.0</td>\n",
              "      <td>0.0</td>\n",
              "      <td>0.0</td>\n",
              "      <td>0.0</td>\n",
              "      <td>0.0</td>\n",
              "      <td>0.0</td>\n",
              "      <td>0.0</td>\n",
              "      <td>0.0</td>\n",
              "      <td>0.0</td>\n",
              "      <td>0.0</td>\n",
              "      <td>0.0</td>\n",
              "      <td>0.0</td>\n",
              "    </tr>\n",
              "    <tr>\n",
              "      <th>2019-07-03 00:00:00+00:00</th>\n",
              "      <td>52.900000</td>\n",
              "      <td>24.0</td>\n",
              "      <td>0.0</td>\n",
              "      <td>95.273938</td>\n",
              "      <td>1.0</td>\n",
              "      <td>0.0</td>\n",
              "      <td>65.273938</td>\n",
              "      <td>64.273938</td>\n",
              "      <td>63.273938</td>\n",
              "      <td>62.273938</td>\n",
              "      <td>61.273938</td>\n",
              "      <td>60.273938</td>\n",
              "      <td>59.273938</td>\n",
              "      <td>58.273938</td>\n",
              "      <td>57.273938</td>\n",
              "      <td>56.273938</td>\n",
              "      <td>55.273938</td>\n",
              "      <td>54.273938</td>\n",
              "      <td>53.273938</td>\n",
              "      <td>52.273938</td>\n",
              "      <td>51.273938</td>\n",
              "      <td>50.273938</td>\n",
              "      <td>49.273938</td>\n",
              "      <td>48.273938</td>\n",
              "      <td>47.273938</td>\n",
              "      <td>46.273938</td>\n",
              "      <td>45.273938</td>\n",
              "      <td>44.273938</td>\n",
              "      <td>43.273938</td>\n",
              "      <td>42.273938</td>\n",
              "      <td>41.273938</td>\n",
              "      <td>40.273938</td>\n",
              "      <td>39.273938</td>\n",
              "      <td>38.273938</td>\n",
              "      <td>37.273938</td>\n",
              "      <td>36.273938</td>\n",
              "      <td>35.273938</td>\n",
              "      <td>34.273938</td>\n",
              "      <td>33.273938</td>\n",
              "      <td>32.273938</td>\n",
              "      <td>...</td>\n",
              "      <td>0.0</td>\n",
              "      <td>0.0</td>\n",
              "      <td>0.0</td>\n",
              "      <td>0.0</td>\n",
              "      <td>0.0</td>\n",
              "      <td>0.0</td>\n",
              "      <td>0.0</td>\n",
              "      <td>0.0</td>\n",
              "      <td>0.0</td>\n",
              "      <td>0.0</td>\n",
              "      <td>0.0</td>\n",
              "      <td>0.0</td>\n",
              "      <td>0.0</td>\n",
              "      <td>0.0</td>\n",
              "      <td>0.0</td>\n",
              "      <td>0.0</td>\n",
              "      <td>0.0</td>\n",
              "      <td>0.0</td>\n",
              "      <td>0.0</td>\n",
              "      <td>0.0</td>\n",
              "      <td>0.0</td>\n",
              "      <td>0.0</td>\n",
              "      <td>0.0</td>\n",
              "      <td>0.0</td>\n",
              "      <td>0.0</td>\n",
              "      <td>0.0</td>\n",
              "      <td>0.0</td>\n",
              "      <td>0.0</td>\n",
              "      <td>0.0</td>\n",
              "      <td>0.0</td>\n",
              "      <td>0.0</td>\n",
              "      <td>0.0</td>\n",
              "      <td>0.0</td>\n",
              "      <td>0.0</td>\n",
              "      <td>0.0</td>\n",
              "      <td>0.0</td>\n",
              "      <td>0.0</td>\n",
              "      <td>0.0</td>\n",
              "      <td>0.0</td>\n",
              "      <td>0.0</td>\n",
              "    </tr>\n",
              "    <tr>\n",
              "      <th>2019-07-04 00:00:00+00:00</th>\n",
              "      <td>43.600000</td>\n",
              "      <td>24.0</td>\n",
              "      <td>0.0</td>\n",
              "      <td>92.566198</td>\n",
              "      <td>1.0</td>\n",
              "      <td>0.0</td>\n",
              "      <td>62.566198</td>\n",
              "      <td>61.566198</td>\n",
              "      <td>60.566198</td>\n",
              "      <td>59.566198</td>\n",
              "      <td>58.566198</td>\n",
              "      <td>57.566198</td>\n",
              "      <td>56.566198</td>\n",
              "      <td>55.566198</td>\n",
              "      <td>54.566198</td>\n",
              "      <td>53.566198</td>\n",
              "      <td>52.566198</td>\n",
              "      <td>51.566198</td>\n",
              "      <td>50.566198</td>\n",
              "      <td>49.566198</td>\n",
              "      <td>48.566198</td>\n",
              "      <td>47.566198</td>\n",
              "      <td>46.566198</td>\n",
              "      <td>45.566198</td>\n",
              "      <td>44.566198</td>\n",
              "      <td>43.566198</td>\n",
              "      <td>42.566198</td>\n",
              "      <td>41.566198</td>\n",
              "      <td>40.566198</td>\n",
              "      <td>39.566198</td>\n",
              "      <td>38.566198</td>\n",
              "      <td>37.566198</td>\n",
              "      <td>36.566198</td>\n",
              "      <td>35.566198</td>\n",
              "      <td>34.566198</td>\n",
              "      <td>33.566198</td>\n",
              "      <td>32.566198</td>\n",
              "      <td>31.566198</td>\n",
              "      <td>30.566198</td>\n",
              "      <td>29.566198</td>\n",
              "      <td>...</td>\n",
              "      <td>0.0</td>\n",
              "      <td>0.0</td>\n",
              "      <td>0.0</td>\n",
              "      <td>0.0</td>\n",
              "      <td>0.0</td>\n",
              "      <td>0.0</td>\n",
              "      <td>0.0</td>\n",
              "      <td>0.0</td>\n",
              "      <td>0.0</td>\n",
              "      <td>0.0</td>\n",
              "      <td>0.0</td>\n",
              "      <td>0.0</td>\n",
              "      <td>0.0</td>\n",
              "      <td>0.0</td>\n",
              "      <td>0.0</td>\n",
              "      <td>0.0</td>\n",
              "      <td>0.0</td>\n",
              "      <td>0.0</td>\n",
              "      <td>0.0</td>\n",
              "      <td>0.0</td>\n",
              "      <td>0.0</td>\n",
              "      <td>0.0</td>\n",
              "      <td>0.0</td>\n",
              "      <td>0.0</td>\n",
              "      <td>0.0</td>\n",
              "      <td>0.0</td>\n",
              "      <td>0.0</td>\n",
              "      <td>0.0</td>\n",
              "      <td>0.0</td>\n",
              "      <td>0.0</td>\n",
              "      <td>0.0</td>\n",
              "      <td>0.0</td>\n",
              "      <td>0.0</td>\n",
              "      <td>0.0</td>\n",
              "      <td>0.0</td>\n",
              "      <td>0.0</td>\n",
              "      <td>0.0</td>\n",
              "      <td>0.0</td>\n",
              "      <td>0.0</td>\n",
              "      <td>0.0</td>\n",
              "    </tr>\n",
              "    <tr>\n",
              "      <th>2019-07-05 00:00:00+00:00</th>\n",
              "      <td>49.400000</td>\n",
              "      <td>24.0</td>\n",
              "      <td>0.0</td>\n",
              "      <td>93.608945</td>\n",
              "      <td>1.0</td>\n",
              "      <td>0.0</td>\n",
              "      <td>63.608945</td>\n",
              "      <td>62.608945</td>\n",
              "      <td>61.608945</td>\n",
              "      <td>60.608945</td>\n",
              "      <td>59.608945</td>\n",
              "      <td>58.608945</td>\n",
              "      <td>57.608945</td>\n",
              "      <td>56.608945</td>\n",
              "      <td>55.608945</td>\n",
              "      <td>54.608945</td>\n",
              "      <td>53.608945</td>\n",
              "      <td>52.608945</td>\n",
              "      <td>51.608945</td>\n",
              "      <td>50.608945</td>\n",
              "      <td>49.608945</td>\n",
              "      <td>48.608945</td>\n",
              "      <td>47.608945</td>\n",
              "      <td>46.608945</td>\n",
              "      <td>45.608945</td>\n",
              "      <td>44.608945</td>\n",
              "      <td>43.608945</td>\n",
              "      <td>42.608945</td>\n",
              "      <td>41.608945</td>\n",
              "      <td>40.608945</td>\n",
              "      <td>39.608945</td>\n",
              "      <td>38.608945</td>\n",
              "      <td>37.608945</td>\n",
              "      <td>36.608945</td>\n",
              "      <td>35.608945</td>\n",
              "      <td>34.608945</td>\n",
              "      <td>33.608945</td>\n",
              "      <td>32.608945</td>\n",
              "      <td>31.608945</td>\n",
              "      <td>30.608945</td>\n",
              "      <td>...</td>\n",
              "      <td>0.0</td>\n",
              "      <td>0.0</td>\n",
              "      <td>0.0</td>\n",
              "      <td>0.0</td>\n",
              "      <td>0.0</td>\n",
              "      <td>0.0</td>\n",
              "      <td>0.0</td>\n",
              "      <td>0.0</td>\n",
              "      <td>0.0</td>\n",
              "      <td>0.0</td>\n",
              "      <td>0.0</td>\n",
              "      <td>0.0</td>\n",
              "      <td>0.0</td>\n",
              "      <td>0.0</td>\n",
              "      <td>0.0</td>\n",
              "      <td>0.0</td>\n",
              "      <td>0.0</td>\n",
              "      <td>0.0</td>\n",
              "      <td>0.0</td>\n",
              "      <td>0.0</td>\n",
              "      <td>0.0</td>\n",
              "      <td>0.0</td>\n",
              "      <td>0.0</td>\n",
              "      <td>0.0</td>\n",
              "      <td>0.0</td>\n",
              "      <td>0.0</td>\n",
              "      <td>0.0</td>\n",
              "      <td>0.0</td>\n",
              "      <td>0.0</td>\n",
              "      <td>0.0</td>\n",
              "      <td>0.0</td>\n",
              "      <td>0.0</td>\n",
              "      <td>0.0</td>\n",
              "      <td>0.0</td>\n",
              "      <td>0.0</td>\n",
              "      <td>0.0</td>\n",
              "      <td>0.0</td>\n",
              "      <td>0.0</td>\n",
              "      <td>0.0</td>\n",
              "      <td>0.0</td>\n",
              "    </tr>\n",
              "  </tbody>\n",
              "</table>\n",
              "<p>5 rows × 128 columns</p>\n",
              "</div>"
            ],
            "text/plain": [
              "                           meter_value  temperature_not_null  ...  hdd_89  hdd_90\n",
              "2019-07-01 00:00:00+00:00    24.847059                  16.0  ...     0.0     0.0\n",
              "2019-07-02 00:00:00+00:00    31.500000                  24.0  ...     0.0     0.0\n",
              "2019-07-03 00:00:00+00:00    52.900000                  24.0  ...     0.0     0.0\n",
              "2019-07-04 00:00:00+00:00    43.600000                  24.0  ...     0.0     0.0\n",
              "2019-07-05 00:00:00+00:00    49.400000                  24.0  ...     0.0     0.0\n",
              "\n",
              "[5 rows x 128 columns]"
            ]
          },
          "metadata": {
            "tags": []
          },
          "execution_count": 324
        }
      ]
    },
    {
      "cell_type": "code",
      "metadata": {
        "id": "5WhiJ83tjDMq",
        "colab_type": "code",
        "colab": {
          "base_uri": "https://localhost:8080/",
          "height": 51
        },
        "outputId": "309888c6-48c2-445b-eae8-334b2c0296d3"
      },
      "source": [
        "\n",
        "design_matrix_daily.index.min(), design_matrix_daily.index.max()"
      ],
      "execution_count": 325,
      "outputs": [
        {
          "output_type": "execute_result",
          "data": {
            "text/plain": [
              "(Timestamp('2019-07-01 00:00:00+0000', tz='UTC', freq='D'),\n",
              " Timestamp('2020-08-02 00:00:00+0000', tz='UTC', freq='D'))"
            ]
          },
          "metadata": {
            "tags": []
          },
          "execution_count": 325
        }
      ]
    },
    {
      "cell_type": "code",
      "metadata": {
        "id": "Ry58nssCjN3_",
        "colab_type": "code",
        "colab": {}
      },
      "source": [
        "preliminary_design_matrix_hourly = eemeter.create_caltrack_hourly_preliminary_design_matrix(\n",
        "    usageData_df, tempF)"
      ],
      "execution_count": 326,
      "outputs": []
    },
    {
      "cell_type": "code",
      "metadata": {
        "id": "2MyMvzCijal4",
        "colab_type": "code",
        "colab": {
          "base_uri": "https://localhost:8080/",
          "height": 235
        },
        "outputId": "bf477be9-174e-4988-ae65-62cac4c7e135"
      },
      "source": [
        "preliminary_design_matrix_hourly.head()\n"
      ],
      "execution_count": 327,
      "outputs": [
        {
          "output_type": "execute_result",
          "data": {
            "text/html": [
              "<div>\n",
              "<style scoped>\n",
              "    .dataframe tbody tr th:only-of-type {\n",
              "        vertical-align: middle;\n",
              "    }\n",
              "\n",
              "    .dataframe tbody tr th {\n",
              "        vertical-align: top;\n",
              "    }\n",
              "\n",
              "    .dataframe thead th {\n",
              "        text-align: right;\n",
              "    }\n",
              "</style>\n",
              "<table border=\"1\" class=\"dataframe\">\n",
              "  <thead>\n",
              "    <tr style=\"text-align: right;\">\n",
              "      <th></th>\n",
              "      <th>meter_value</th>\n",
              "      <th>temperature_mean</th>\n",
              "      <th>cdd_65</th>\n",
              "      <th>hdd_50</th>\n",
              "      <th>n_hours_dropped</th>\n",
              "      <th>n_hours_kept</th>\n",
              "      <th>hour_of_week</th>\n",
              "    </tr>\n",
              "    <tr>\n",
              "      <th>start</th>\n",
              "      <th></th>\n",
              "      <th></th>\n",
              "      <th></th>\n",
              "      <th></th>\n",
              "      <th></th>\n",
              "      <th></th>\n",
              "      <th></th>\n",
              "    </tr>\n",
              "  </thead>\n",
              "  <tbody>\n",
              "    <tr>\n",
              "      <th>2019-07-01 07:00:00+00:00</th>\n",
              "      <td>NaN</td>\n",
              "      <td>NaN</td>\n",
              "      <td>NaN</td>\n",
              "      <td>NaN</td>\n",
              "      <td>NaN</td>\n",
              "      <td>NaN</td>\n",
              "      <td>NaN</td>\n",
              "    </tr>\n",
              "    <tr>\n",
              "      <th>2019-07-01 08:00:00+00:00</th>\n",
              "      <td>0.4</td>\n",
              "      <td>94.70660</td>\n",
              "      <td>29.70660</td>\n",
              "      <td>0.0</td>\n",
              "      <td>0.0</td>\n",
              "      <td>1.0</td>\n",
              "      <td>8</td>\n",
              "    </tr>\n",
              "    <tr>\n",
              "      <th>2019-07-01 09:00:00+00:00</th>\n",
              "      <td>1.0</td>\n",
              "      <td>93.32096</td>\n",
              "      <td>28.32096</td>\n",
              "      <td>0.0</td>\n",
              "      <td>0.0</td>\n",
              "      <td>1.0</td>\n",
              "      <td>9</td>\n",
              "    </tr>\n",
              "    <tr>\n",
              "      <th>2019-07-01 10:00:00+00:00</th>\n",
              "      <td>0.9</td>\n",
              "      <td>91.07816</td>\n",
              "      <td>26.07816</td>\n",
              "      <td>0.0</td>\n",
              "      <td>0.0</td>\n",
              "      <td>1.0</td>\n",
              "      <td>10</td>\n",
              "    </tr>\n",
              "    <tr>\n",
              "      <th>2019-07-01 11:00:00+00:00</th>\n",
              "      <td>0.3</td>\n",
              "      <td>89.39156</td>\n",
              "      <td>24.39156</td>\n",
              "      <td>0.0</td>\n",
              "      <td>0.0</td>\n",
              "      <td>1.0</td>\n",
              "      <td>11</td>\n",
              "    </tr>\n",
              "  </tbody>\n",
              "</table>\n",
              "</div>"
            ],
            "text/plain": [
              "                           meter_value  ...  hour_of_week\n",
              "start                                   ...              \n",
              "2019-07-01 07:00:00+00:00          NaN  ...           NaN\n",
              "2019-07-01 08:00:00+00:00          0.4  ...             8\n",
              "2019-07-01 09:00:00+00:00          1.0  ...             9\n",
              "2019-07-01 10:00:00+00:00          0.9  ...            10\n",
              "2019-07-01 11:00:00+00:00          0.3  ...            11\n",
              "\n",
              "[5 rows x 7 columns]"
            ]
          },
          "metadata": {
            "tags": []
          },
          "execution_count": 327
        }
      ]
    },
    {
      "cell_type": "code",
      "metadata": {
        "id": "tnEGnGk1je1M",
        "colab_type": "code",
        "colab": {
          "base_uri": "https://localhost:8080/",
          "height": 374
        },
        "outputId": "54288586-0510-4f89-bc80-b26aeab4c7c2"
      },
      "source": [
        "segmentation_hourly = eemeter.segment_time_series(\n",
        "    preliminary_design_matrix_hourly.index,\n",
        "    'three_month_weighted'\n",
        ")\n",
        "segmentation_hourly.head()"
      ],
      "execution_count": 328,
      "outputs": [
        {
          "output_type": "execute_result",
          "data": {
            "text/html": [
              "<div>\n",
              "<style scoped>\n",
              "    .dataframe tbody tr th:only-of-type {\n",
              "        vertical-align: middle;\n",
              "    }\n",
              "\n",
              "    .dataframe tbody tr th {\n",
              "        vertical-align: top;\n",
              "    }\n",
              "\n",
              "    .dataframe thead th {\n",
              "        text-align: right;\n",
              "    }\n",
              "</style>\n",
              "<table border=\"1\" class=\"dataframe\">\n",
              "  <thead>\n",
              "    <tr style=\"text-align: right;\">\n",
              "      <th></th>\n",
              "      <th>dec-jan-feb-weighted</th>\n",
              "      <th>jan-feb-mar-weighted</th>\n",
              "      <th>feb-mar-apr-weighted</th>\n",
              "      <th>mar-apr-may-weighted</th>\n",
              "      <th>apr-may-jun-weighted</th>\n",
              "      <th>may-jun-jul-weighted</th>\n",
              "      <th>jun-jul-aug-weighted</th>\n",
              "      <th>jul-aug-sep-weighted</th>\n",
              "      <th>aug-sep-oct-weighted</th>\n",
              "      <th>sep-oct-nov-weighted</th>\n",
              "      <th>oct-nov-dec-weighted</th>\n",
              "      <th>nov-dec-jan-weighted</th>\n",
              "    </tr>\n",
              "    <tr>\n",
              "      <th>start</th>\n",
              "      <th></th>\n",
              "      <th></th>\n",
              "      <th></th>\n",
              "      <th></th>\n",
              "      <th></th>\n",
              "      <th></th>\n",
              "      <th></th>\n",
              "      <th></th>\n",
              "      <th></th>\n",
              "      <th></th>\n",
              "      <th></th>\n",
              "      <th></th>\n",
              "    </tr>\n",
              "  </thead>\n",
              "  <tbody>\n",
              "    <tr>\n",
              "      <th>2019-07-01 07:00:00+00:00</th>\n",
              "      <td>0.0</td>\n",
              "      <td>0.0</td>\n",
              "      <td>0.0</td>\n",
              "      <td>0.0</td>\n",
              "      <td>0.0</td>\n",
              "      <td>0.5</td>\n",
              "      <td>1.0</td>\n",
              "      <td>0.5</td>\n",
              "      <td>0.0</td>\n",
              "      <td>0.0</td>\n",
              "      <td>0.0</td>\n",
              "      <td>0.0</td>\n",
              "    </tr>\n",
              "    <tr>\n",
              "      <th>2019-07-01 08:00:00+00:00</th>\n",
              "      <td>0.0</td>\n",
              "      <td>0.0</td>\n",
              "      <td>0.0</td>\n",
              "      <td>0.0</td>\n",
              "      <td>0.0</td>\n",
              "      <td>0.5</td>\n",
              "      <td>1.0</td>\n",
              "      <td>0.5</td>\n",
              "      <td>0.0</td>\n",
              "      <td>0.0</td>\n",
              "      <td>0.0</td>\n",
              "      <td>0.0</td>\n",
              "    </tr>\n",
              "    <tr>\n",
              "      <th>2019-07-01 09:00:00+00:00</th>\n",
              "      <td>0.0</td>\n",
              "      <td>0.0</td>\n",
              "      <td>0.0</td>\n",
              "      <td>0.0</td>\n",
              "      <td>0.0</td>\n",
              "      <td>0.5</td>\n",
              "      <td>1.0</td>\n",
              "      <td>0.5</td>\n",
              "      <td>0.0</td>\n",
              "      <td>0.0</td>\n",
              "      <td>0.0</td>\n",
              "      <td>0.0</td>\n",
              "    </tr>\n",
              "    <tr>\n",
              "      <th>2019-07-01 10:00:00+00:00</th>\n",
              "      <td>0.0</td>\n",
              "      <td>0.0</td>\n",
              "      <td>0.0</td>\n",
              "      <td>0.0</td>\n",
              "      <td>0.0</td>\n",
              "      <td>0.5</td>\n",
              "      <td>1.0</td>\n",
              "      <td>0.5</td>\n",
              "      <td>0.0</td>\n",
              "      <td>0.0</td>\n",
              "      <td>0.0</td>\n",
              "      <td>0.0</td>\n",
              "    </tr>\n",
              "    <tr>\n",
              "      <th>2019-07-01 11:00:00+00:00</th>\n",
              "      <td>0.0</td>\n",
              "      <td>0.0</td>\n",
              "      <td>0.0</td>\n",
              "      <td>0.0</td>\n",
              "      <td>0.0</td>\n",
              "      <td>0.5</td>\n",
              "      <td>1.0</td>\n",
              "      <td>0.5</td>\n",
              "      <td>0.0</td>\n",
              "      <td>0.0</td>\n",
              "      <td>0.0</td>\n",
              "      <td>0.0</td>\n",
              "    </tr>\n",
              "  </tbody>\n",
              "</table>\n",
              "</div>"
            ],
            "text/plain": [
              "                           dec-jan-feb-weighted  ...  nov-dec-jan-weighted\n",
              "start                                            ...                      \n",
              "2019-07-01 07:00:00+00:00                   0.0  ...                   0.0\n",
              "2019-07-01 08:00:00+00:00                   0.0  ...                   0.0\n",
              "2019-07-01 09:00:00+00:00                   0.0  ...                   0.0\n",
              "2019-07-01 10:00:00+00:00                   0.0  ...                   0.0\n",
              "2019-07-01 11:00:00+00:00                   0.0  ...                   0.0\n",
              "\n",
              "[5 rows x 12 columns]"
            ]
          },
          "metadata": {
            "tags": []
          },
          "execution_count": 328
        }
      ]
    },
    {
      "cell_type": "code",
      "metadata": {
        "id": "griawpIRj382",
        "colab_type": "code",
        "colab": {
          "base_uri": "https://localhost:8080/",
          "height": 226
        },
        "outputId": "93daf54f-b4ba-43bb-f115-6f371e228395"
      },
      "source": [
        "# example segmentation weights\n",
        "segmentation_hourly[[\n",
        "    'dec-jan-feb-weighted',\n",
        "    'aug-sep-oct-weighted',\n",
        "    'apr-may-jun-weighted',\n",
        "    'jun-jul-aug-weighted'\n",
        "]].plot.area(stacked=False, alpha=0.3, figsize=(15, 2.5))"
      ],
      "execution_count": 329,
      "outputs": [
        {
          "output_type": "execute_result",
          "data": {
            "text/plain": [
              "<matplotlib.axes._subplots.AxesSubplot at 0x7fbaa2529f98>"
            ]
          },
          "metadata": {
            "tags": []
          },
          "execution_count": 329
        },
        {
          "output_type": "display_data",
          "data": {
            "image/png": "[encoded data removed]",
            "text/plain": [
              "<Figure size 1080x180 with 1 Axes>"
            ]
          },
          "metadata": {
            "tags": []
          }
        }
      ]
    },
    {
      "cell_type": "code",
      "metadata": {
        "id": "gA8BiezOkQDr",
        "colab_type": "code",
        "colab": {
          "base_uri": "https://localhost:8080/",
          "height": 289
        },
        "outputId": "c05909a7-6310-4f56-de2b-b75fa6a5b5f3"
      },
      "source": [
        "occupancy_lookup_hourly = eemeter.estimate_hour_of_week_occupancy(\n",
        "    preliminary_design_matrix_hourly,\n",
        "    segmentation=segmentation_hourly,\n",
        "    threshold=.65)\n",
        "\n",
        "\n",
        "occupancy_lookup_hourly.tail()"
      ],
      "execution_count": 330,
      "outputs": [
        {
          "output_type": "execute_result",
          "data": {
            "text/html": [
              "<div>\n",
              "<style scoped>\n",
              "    .dataframe tbody tr th:only-of-type {\n",
              "        vertical-align: middle;\n",
              "    }\n",
              "\n",
              "    .dataframe tbody tr th {\n",
              "        vertical-align: top;\n",
              "    }\n",
              "\n",
              "    .dataframe thead th {\n",
              "        text-align: right;\n",
              "    }\n",
              "</style>\n",
              "<table border=\"1\" class=\"dataframe\">\n",
              "  <thead>\n",
              "    <tr style=\"text-align: right;\">\n",
              "      <th></th>\n",
              "      <th>dec-jan-feb-weighted</th>\n",
              "      <th>jan-feb-mar-weighted</th>\n",
              "      <th>feb-mar-apr-weighted</th>\n",
              "      <th>mar-apr-may-weighted</th>\n",
              "      <th>apr-may-jun-weighted</th>\n",
              "      <th>may-jun-jul-weighted</th>\n",
              "      <th>jun-jul-aug-weighted</th>\n",
              "      <th>jul-aug-sep-weighted</th>\n",
              "      <th>aug-sep-oct-weighted</th>\n",
              "      <th>sep-oct-nov-weighted</th>\n",
              "      <th>oct-nov-dec-weighted</th>\n",
              "      <th>nov-dec-jan-weighted</th>\n",
              "    </tr>\n",
              "    <tr>\n",
              "      <th>hour_of_week</th>\n",
              "      <th></th>\n",
              "      <th></th>\n",
              "      <th></th>\n",
              "      <th></th>\n",
              "      <th></th>\n",
              "      <th></th>\n",
              "      <th></th>\n",
              "      <th></th>\n",
              "      <th></th>\n",
              "      <th></th>\n",
              "      <th></th>\n",
              "      <th></th>\n",
              "    </tr>\n",
              "  </thead>\n",
              "  <tbody>\n",
              "    <tr>\n",
              "      <th>163</th>\n",
              "      <td>False</td>\n",
              "      <td>False</td>\n",
              "      <td>False</td>\n",
              "      <td>False</td>\n",
              "      <td>False</td>\n",
              "      <td>False</td>\n",
              "      <td>False</td>\n",
              "      <td>False</td>\n",
              "      <td>False</td>\n",
              "      <td>False</td>\n",
              "      <td>False</td>\n",
              "      <td>False</td>\n",
              "    </tr>\n",
              "    <tr>\n",
              "      <th>164</th>\n",
              "      <td>False</td>\n",
              "      <td>False</td>\n",
              "      <td>False</td>\n",
              "      <td>False</td>\n",
              "      <td>False</td>\n",
              "      <td>False</td>\n",
              "      <td>False</td>\n",
              "      <td>False</td>\n",
              "      <td>False</td>\n",
              "      <td>False</td>\n",
              "      <td>False</td>\n",
              "      <td>False</td>\n",
              "    </tr>\n",
              "    <tr>\n",
              "      <th>165</th>\n",
              "      <td>False</td>\n",
              "      <td>False</td>\n",
              "      <td>False</td>\n",
              "      <td>False</td>\n",
              "      <td>False</td>\n",
              "      <td>False</td>\n",
              "      <td>False</td>\n",
              "      <td>False</td>\n",
              "      <td>False</td>\n",
              "      <td>False</td>\n",
              "      <td>False</td>\n",
              "      <td>False</td>\n",
              "    </tr>\n",
              "    <tr>\n",
              "      <th>166</th>\n",
              "      <td>False</td>\n",
              "      <td>False</td>\n",
              "      <td>False</td>\n",
              "      <td>False</td>\n",
              "      <td>False</td>\n",
              "      <td>False</td>\n",
              "      <td>False</td>\n",
              "      <td>False</td>\n",
              "      <td>False</td>\n",
              "      <td>False</td>\n",
              "      <td>False</td>\n",
              "      <td>False</td>\n",
              "    </tr>\n",
              "    <tr>\n",
              "      <th>167</th>\n",
              "      <td>False</td>\n",
              "      <td>False</td>\n",
              "      <td>False</td>\n",
              "      <td>False</td>\n",
              "      <td>False</td>\n",
              "      <td>False</td>\n",
              "      <td>False</td>\n",
              "      <td>False</td>\n",
              "      <td>False</td>\n",
              "      <td>False</td>\n",
              "      <td>False</td>\n",
              "      <td>False</td>\n",
              "    </tr>\n",
              "  </tbody>\n",
              "</table>\n",
              "</div>"
            ],
            "text/plain": [
              "              dec-jan-feb-weighted  ...  nov-dec-jan-weighted\n",
              "hour_of_week                        ...                      \n",
              "163                          False  ...                 False\n",
              "164                          False  ...                 False\n",
              "165                          False  ...                 False\n",
              "166                          False  ...                 False\n",
              "167                          False  ...                 False\n",
              "\n",
              "[5 rows x 12 columns]"
            ]
          },
          "metadata": {
            "tags": []
          },
          "execution_count": 330
        }
      ]
    },
    {
      "cell_type": "code",
      "metadata": {
        "id": "4pt92wZfkfzo",
        "colab_type": "code",
        "colab": {
          "base_uri": "https://localhost:8080/",
          "height": 382
        },
        "outputId": "c8b4ca69-71c0-463e-fe60-9f351a995ab3"
      },
      "source": [
        "temperature_bins_hourly = eemeter.fit_temperature_bins(\n",
        "    preliminary_design_matrix_hourly,\n",
        "    segmentation=segmentation_hourly,\n",
        "    default_bins=[40, 55, 65, 75, 85, 95, 105, 115],  # default\n",
        "    min_temperature_count=10  # default\n",
        "    )\n",
        "\n",
        "temperature_bins_hourly"
      ],
      "execution_count": 331,
      "outputs": [
        {
          "output_type": "execute_result",
          "data": {
            "text/html": [
              "<div>\n",
              "<style scoped>\n",
              "    .dataframe tbody tr th:only-of-type {\n",
              "        vertical-align: middle;\n",
              "    }\n",
              "\n",
              "    .dataframe tbody tr th {\n",
              "        vertical-align: top;\n",
              "    }\n",
              "\n",
              "    .dataframe thead th {\n",
              "        text-align: right;\n",
              "    }\n",
              "</style>\n",
              "<table border=\"1\" class=\"dataframe\">\n",
              "  <thead>\n",
              "    <tr style=\"text-align: right;\">\n",
              "      <th></th>\n",
              "      <th>dec-jan-feb-weighted</th>\n",
              "      <th>jan-feb-mar-weighted</th>\n",
              "      <th>feb-mar-apr-weighted</th>\n",
              "      <th>mar-apr-may-weighted</th>\n",
              "      <th>apr-may-jun-weighted</th>\n",
              "      <th>may-jun-jul-weighted</th>\n",
              "      <th>jun-jul-aug-weighted</th>\n",
              "      <th>jul-aug-sep-weighted</th>\n",
              "      <th>aug-sep-oct-weighted</th>\n",
              "      <th>sep-oct-nov-weighted</th>\n",
              "      <th>oct-nov-dec-weighted</th>\n",
              "      <th>nov-dec-jan-weighted</th>\n",
              "    </tr>\n",
              "    <tr>\n",
              "      <th>bin_endpoints</th>\n",
              "      <th></th>\n",
              "      <th></th>\n",
              "      <th></th>\n",
              "      <th></th>\n",
              "      <th></th>\n",
              "      <th></th>\n",
              "      <th></th>\n",
              "      <th></th>\n",
              "      <th></th>\n",
              "      <th></th>\n",
              "      <th></th>\n",
              "      <th></th>\n",
              "    </tr>\n",
              "  </thead>\n",
              "  <tbody>\n",
              "    <tr>\n",
              "      <th>40</th>\n",
              "      <td>True</td>\n",
              "      <td>True</td>\n",
              "      <td>True</td>\n",
              "      <td>False</td>\n",
              "      <td>False</td>\n",
              "      <td>False</td>\n",
              "      <td>False</td>\n",
              "      <td>False</td>\n",
              "      <td>False</td>\n",
              "      <td>False</td>\n",
              "      <td>False</td>\n",
              "      <td>False</td>\n",
              "    </tr>\n",
              "    <tr>\n",
              "      <th>55</th>\n",
              "      <td>True</td>\n",
              "      <td>True</td>\n",
              "      <td>True</td>\n",
              "      <td>True</td>\n",
              "      <td>True</td>\n",
              "      <td>False</td>\n",
              "      <td>False</td>\n",
              "      <td>False</td>\n",
              "      <td>True</td>\n",
              "      <td>True</td>\n",
              "      <td>True</td>\n",
              "      <td>True</td>\n",
              "    </tr>\n",
              "    <tr>\n",
              "      <th>65</th>\n",
              "      <td>True</td>\n",
              "      <td>True</td>\n",
              "      <td>True</td>\n",
              "      <td>True</td>\n",
              "      <td>True</td>\n",
              "      <td>False</td>\n",
              "      <td>False</td>\n",
              "      <td>False</td>\n",
              "      <td>True</td>\n",
              "      <td>True</td>\n",
              "      <td>True</td>\n",
              "      <td>True</td>\n",
              "    </tr>\n",
              "    <tr>\n",
              "      <th>75</th>\n",
              "      <td>True</td>\n",
              "      <td>True</td>\n",
              "      <td>True</td>\n",
              "      <td>True</td>\n",
              "      <td>True</td>\n",
              "      <td>True</td>\n",
              "      <td>False</td>\n",
              "      <td>True</td>\n",
              "      <td>True</td>\n",
              "      <td>True</td>\n",
              "      <td>True</td>\n",
              "      <td>True</td>\n",
              "    </tr>\n",
              "    <tr>\n",
              "      <th>85</th>\n",
              "      <td>False</td>\n",
              "      <td>False</td>\n",
              "      <td>True</td>\n",
              "      <td>True</td>\n",
              "      <td>True</td>\n",
              "      <td>True</td>\n",
              "      <td>True</td>\n",
              "      <td>True</td>\n",
              "      <td>True</td>\n",
              "      <td>True</td>\n",
              "      <td>True</td>\n",
              "      <td>True</td>\n",
              "    </tr>\n",
              "    <tr>\n",
              "      <th>95</th>\n",
              "      <td>False</td>\n",
              "      <td>False</td>\n",
              "      <td>True</td>\n",
              "      <td>True</td>\n",
              "      <td>True</td>\n",
              "      <td>True</td>\n",
              "      <td>True</td>\n",
              "      <td>True</td>\n",
              "      <td>True</td>\n",
              "      <td>True</td>\n",
              "      <td>False</td>\n",
              "      <td>False</td>\n",
              "    </tr>\n",
              "    <tr>\n",
              "      <th>105</th>\n",
              "      <td>False</td>\n",
              "      <td>False</td>\n",
              "      <td>False</td>\n",
              "      <td>True</td>\n",
              "      <td>True</td>\n",
              "      <td>True</td>\n",
              "      <td>True</td>\n",
              "      <td>True</td>\n",
              "      <td>True</td>\n",
              "      <td>True</td>\n",
              "      <td>False</td>\n",
              "      <td>False</td>\n",
              "    </tr>\n",
              "    <tr>\n",
              "      <th>115</th>\n",
              "      <td>False</td>\n",
              "      <td>False</td>\n",
              "      <td>False</td>\n",
              "      <td>False</td>\n",
              "      <td>False</td>\n",
              "      <td>False</td>\n",
              "      <td>False</td>\n",
              "      <td>False</td>\n",
              "      <td>False</td>\n",
              "      <td>False</td>\n",
              "      <td>False</td>\n",
              "      <td>False</td>\n",
              "    </tr>\n",
              "  </tbody>\n",
              "</table>\n",
              "</div>"
            ],
            "text/plain": [
              "               dec-jan-feb-weighted  ...  nov-dec-jan-weighted\n",
              "bin_endpoints                        ...                      \n",
              "40                             True  ...                 False\n",
              "55                             True  ...                  True\n",
              "65                             True  ...                  True\n",
              "75                             True  ...                  True\n",
              "85                            False  ...                  True\n",
              "95                            False  ...                 False\n",
              "105                           False  ...                 False\n",
              "115                           False  ...                 False\n",
              "\n",
              "[8 rows x 12 columns]"
            ]
          },
          "metadata": {
            "tags": []
          },
          "execution_count": 331
        }
      ]
    },
    {
      "cell_type": "code",
      "metadata": {
        "id": "Lb-eYq-IllpL",
        "colab_type": "code",
        "colab": {}
      },
      "source": [
        "segmented_design_matrices_hourly = eemeter.create_caltrack_hourly_segmented_design_matrices(\n",
        "    preliminary_design_matrix_hourly,\n",
        "    segmentation_hourly,\n",
        "    occupancy_lookup_hourly,\n",
        "    temperature_bins_hourly,\n",
        ")"
      ],
      "execution_count": 332,
      "outputs": []
    },
    {
      "cell_type": "code",
      "metadata": {
        "id": "AQXQmkpemDwf",
        "colab_type": "code",
        "colab": {
          "base_uri": "https://localhost:8080/",
          "height": 272
        },
        "outputId": "33d6f864-de30-408c-b460-658d3d58235d"
      },
      "source": [
        "print(segmented_design_matrices_hourly.keys())\n",
        "segmented_design_matrices_hourly['dec-jan-feb-weighted'].tail()"
      ],
      "execution_count": 333,
      "outputs": [
        {
          "output_type": "stream",
          "text": [
            "dict_keys(['dec-jan-feb-weighted', 'jan-feb-mar-weighted', 'feb-mar-apr-weighted', 'mar-apr-may-weighted', 'apr-may-jun-weighted', 'may-jun-jul-weighted', 'jun-jul-aug-weighted', 'jul-aug-sep-weighted', 'aug-sep-oct-weighted', 'sep-oct-nov-weighted', 'oct-nov-dec-weighted', 'nov-dec-jan-weighted'])\n"
          ],
          "name": "stdout"
        },
        {
          "output_type": "execute_result",
          "data": {
            "text/html": [
              "<div>\n",
              "<style scoped>\n",
              "    .dataframe tbody tr th:only-of-type {\n",
              "        vertical-align: middle;\n",
              "    }\n",
              "\n",
              "    .dataframe tbody tr th {\n",
              "        vertical-align: top;\n",
              "    }\n",
              "\n",
              "    .dataframe thead th {\n",
              "        text-align: right;\n",
              "    }\n",
              "</style>\n",
              "<table border=\"1\" class=\"dataframe\">\n",
              "  <thead>\n",
              "    <tr style=\"text-align: right;\">\n",
              "      <th></th>\n",
              "      <th>meter_value</th>\n",
              "      <th>hour_of_week</th>\n",
              "      <th>occupancy</th>\n",
              "      <th>bin_0</th>\n",
              "      <th>bin_1</th>\n",
              "      <th>bin_2</th>\n",
              "      <th>bin_3</th>\n",
              "      <th>bin_4</th>\n",
              "      <th>weight</th>\n",
              "    </tr>\n",
              "    <tr>\n",
              "      <th>start</th>\n",
              "      <th></th>\n",
              "      <th></th>\n",
              "      <th></th>\n",
              "      <th></th>\n",
              "      <th></th>\n",
              "      <th></th>\n",
              "      <th></th>\n",
              "      <th></th>\n",
              "      <th></th>\n",
              "    </tr>\n",
              "  </thead>\n",
              "  <tbody>\n",
              "    <tr>\n",
              "      <th>2020-08-01 02:00:00+00:00</th>\n",
              "      <td>NaN</td>\n",
              "      <td>NaN</td>\n",
              "      <td>NaN</td>\n",
              "      <td>NaN</td>\n",
              "      <td>NaN</td>\n",
              "      <td>NaN</td>\n",
              "      <td>NaN</td>\n",
              "      <td>NaN</td>\n",
              "      <td>NaN</td>\n",
              "    </tr>\n",
              "    <tr>\n",
              "      <th>2020-08-01 03:00:00+00:00</th>\n",
              "      <td>NaN</td>\n",
              "      <td>NaN</td>\n",
              "      <td>NaN</td>\n",
              "      <td>NaN</td>\n",
              "      <td>NaN</td>\n",
              "      <td>NaN</td>\n",
              "      <td>NaN</td>\n",
              "      <td>NaN</td>\n",
              "      <td>NaN</td>\n",
              "    </tr>\n",
              "    <tr>\n",
              "      <th>2020-08-01 04:00:00+00:00</th>\n",
              "      <td>NaN</td>\n",
              "      <td>NaN</td>\n",
              "      <td>NaN</td>\n",
              "      <td>NaN</td>\n",
              "      <td>NaN</td>\n",
              "      <td>NaN</td>\n",
              "      <td>NaN</td>\n",
              "      <td>NaN</td>\n",
              "      <td>NaN</td>\n",
              "    </tr>\n",
              "    <tr>\n",
              "      <th>2020-08-01 05:00:00+00:00</th>\n",
              "      <td>NaN</td>\n",
              "      <td>NaN</td>\n",
              "      <td>NaN</td>\n",
              "      <td>NaN</td>\n",
              "      <td>NaN</td>\n",
              "      <td>NaN</td>\n",
              "      <td>NaN</td>\n",
              "      <td>NaN</td>\n",
              "      <td>NaN</td>\n",
              "    </tr>\n",
              "    <tr>\n",
              "      <th>2020-08-01 06:00:00+00:00</th>\n",
              "      <td>NaN</td>\n",
              "      <td>NaN</td>\n",
              "      <td>NaN</td>\n",
              "      <td>NaN</td>\n",
              "      <td>NaN</td>\n",
              "      <td>NaN</td>\n",
              "      <td>NaN</td>\n",
              "      <td>NaN</td>\n",
              "      <td>NaN</td>\n",
              "    </tr>\n",
              "  </tbody>\n",
              "</table>\n",
              "</div>"
            ],
            "text/plain": [
              "                           meter_value hour_of_week  ... bin_4  weight\n",
              "start                                                ...              \n",
              "2020-08-01 02:00:00+00:00          NaN          NaN  ...   NaN     NaN\n",
              "2020-08-01 03:00:00+00:00          NaN          NaN  ...   NaN     NaN\n",
              "2020-08-01 04:00:00+00:00          NaN          NaN  ...   NaN     NaN\n",
              "2020-08-01 05:00:00+00:00          NaN          NaN  ...   NaN     NaN\n",
              "2020-08-01 06:00:00+00:00          NaN          NaN  ...   NaN     NaN\n",
              "\n",
              "[5 rows x 9 columns]"
            ]
          },
          "metadata": {
            "tags": []
          },
          "execution_count": 333
        }
      ]
    },
    {
      "cell_type": "code",
      "metadata": {
        "id": "3aDzgz7DmG-D",
        "colab_type": "code",
        "colab": {}
      },
      "source": [
        "baseline_segmented_model_hourly = eemeter.fit_caltrack_hourly_model(\n",
        "    segmented_design_matrices_hourly,\n",
        "    occupancy_lookup_hourly,\n",
        "    temperature_bins_hourly,\n",
        ")"
      ],
      "execution_count": 334,
      "outputs": []
    },
    {
      "cell_type": "code",
      "metadata": {
        "id": "Dgs9UHsQmfyg",
        "colab_type": "code",
        "colab": {}
      },
      "source": [
        "reporting_start_date = '2019-08-01'\t"
      ],
      "execution_count": 335,
      "outputs": []
    },
    {
      "cell_type": "code",
      "metadata": {
        "id": "kfTL-TEbnNQO",
        "colab_type": "code",
        "colab": {}
      },
      "source": [
        "reporting_meter_data_hourly, warnings = eemeter.get_reporting_data(\n",
        "    usageData_df)"
      ],
      "execution_count": 336,
      "outputs": []
    },
    {
      "cell_type": "code",
      "metadata": {
        "id": "GMk_DEIBnn7u",
        "colab_type": "code",
        "colab": {
          "base_uri": "https://localhost:8080/",
          "height": 341
        },
        "outputId": "7eafd31d-cea0-4e97-edfb-a97dce7e21c4"
      },
      "source": [
        "metered_savings_hourly, error_bands = eemeter.metered_savings(\n",
        "    baseline_segmented_model_hourly, reporting_meter_data_hourly,\n",
        "    tempF)"
      ],
      "execution_count": 339,
      "outputs": [
        {
          "output_type": "error",
          "ename": "TypeError",
          "evalue": "ignored",
          "traceback": [
            "\u001b[0;31m---------------------------------------------------------------------------\u001b[0m",
            "\u001b[0;31mTypeError\u001b[0m                                 Traceback (most recent call last)",
            "\u001b[0;32m<ipython-input-339-dcbb8b4b5721>\u001b[0m in \u001b[0;36m<module>\u001b[0;34m()\u001b[0m\n\u001b[1;32m      1\u001b[0m metered_savings_hourly, error_bands = eemeter.metered_savings(\n\u001b[1;32m      2\u001b[0m     \u001b[0mbaseline_segmented_model_hourly\u001b[0m\u001b[0;34m,\u001b[0m \u001b[0mreporting_meter_data_hourly\u001b[0m\u001b[0;34m,\u001b[0m\u001b[0;34m\u001b[0m\u001b[0;34m\u001b[0m\u001b[0m\n\u001b[0;32m----> 3\u001b[0;31m     tempF)\n\u001b[0m",
            "\u001b[0;32m/usr/local/lib/python3.6/dist-packages/eemeter/derivatives.py\u001b[0m in \u001b[0;36mmetered_savings\u001b[0;34m(baseline_model, reporting_meter_data, temperature_data, with_disaggregated, confidence_level, predict_kwargs)\u001b[0m\n\u001b[1;32m    225\u001b[0m     \u001b[0mprediction_index\u001b[0m \u001b[0;34m=\u001b[0m \u001b[0mreporting_meter_data\u001b[0m\u001b[0;34m.\u001b[0m\u001b[0mindex\u001b[0m\u001b[0;34m\u001b[0m\u001b[0;34m\u001b[0m\u001b[0m\n\u001b[1;32m    226\u001b[0m     model_prediction = baseline_model.predict(\n\u001b[0;32m--> 227\u001b[0;31m         \u001b[0mprediction_index\u001b[0m\u001b[0;34m,\u001b[0m \u001b[0mtemperature_data\u001b[0m\u001b[0;34m,\u001b[0m \u001b[0;34m**\u001b[0m\u001b[0mpredict_kwargs\u001b[0m\u001b[0;34m\u001b[0m\u001b[0;34m\u001b[0m\u001b[0m\n\u001b[0m\u001b[1;32m    228\u001b[0m     )\n\u001b[1;32m    229\u001b[0m \u001b[0;34m\u001b[0m\u001b[0m\n",
            "\u001b[0;32m/usr/local/lib/python3.6/dist-packages/eemeter/caltrack/hourly.py\u001b[0m in \u001b[0;36mpredict\u001b[0;34m(self, prediction_index, temperature_data, **kwargs)\u001b[0m\n\u001b[1;32m    189\u001b[0m             \u001b[0mThe\u001b[0m \u001b[0mpredicted\u001b[0m \u001b[0musage\u001b[0m \u001b[0mvalues\u001b[0m\u001b[0;34m.\u001b[0m\u001b[0;34m\u001b[0m\u001b[0;34m\u001b[0m\u001b[0m\n\u001b[1;32m    190\u001b[0m         \"\"\"\n\u001b[0;32m--> 191\u001b[0;31m         \u001b[0;32mreturn\u001b[0m \u001b[0mself\u001b[0m\u001b[0;34m.\u001b[0m\u001b[0mmodel\u001b[0m\u001b[0;34m.\u001b[0m\u001b[0mpredict\u001b[0m\u001b[0;34m(\u001b[0m\u001b[0mprediction_index\u001b[0m\u001b[0;34m,\u001b[0m \u001b[0mtemperature_data\u001b[0m\u001b[0;34m,\u001b[0m \u001b[0;34m**\u001b[0m\u001b[0mkwargs\u001b[0m\u001b[0;34m)\u001b[0m\u001b[0;34m\u001b[0m\u001b[0;34m\u001b[0m\u001b[0m\n\u001b[0m\u001b[1;32m    192\u001b[0m \u001b[0;34m\u001b[0m\u001b[0m\n\u001b[1;32m    193\u001b[0m \u001b[0;34m\u001b[0m\u001b[0m\n",
            "\u001b[0;32m/usr/local/lib/python3.6/dist-packages/eemeter/segmentation.py\u001b[0m in \u001b[0;36mpredict\u001b[0;34m(self, prediction_index, temperature, **kwargs)\u001b[0m\n\u001b[1;32m    219\u001b[0m             \u001b[0;32mif\u001b[0m \u001b[0msegment_model\u001b[0m \u001b[0;32mis\u001b[0m \u001b[0;32mNone\u001b[0m\u001b[0;34m:\u001b[0m\u001b[0;34m\u001b[0m\u001b[0;34m\u001b[0m\u001b[0m\n\u001b[1;32m    220\u001b[0m                 \u001b[0;32mcontinue\u001b[0m\u001b[0;34m\u001b[0m\u001b[0;34m\u001b[0m\u001b[0m\n\u001b[0;32m--> 221\u001b[0;31m             \u001b[0mprediction\u001b[0m \u001b[0;34m=\u001b[0m \u001b[0msegment_model\u001b[0m\u001b[0;34m.\u001b[0m\u001b[0mpredict\u001b[0m\u001b[0;34m(\u001b[0m\u001b[0msegmented_data\u001b[0m\u001b[0;34m)\u001b[0m \u001b[0;34m*\u001b[0m \u001b[0msegmented_data\u001b[0m\u001b[0;34m.\u001b[0m\u001b[0mweight\u001b[0m\u001b[0;34m\u001b[0m\u001b[0;34m\u001b[0m\u001b[0m\n\u001b[0m\u001b[1;32m    222\u001b[0m             \u001b[0;31m# NaN the zero weights and reindex\u001b[0m\u001b[0;34m\u001b[0m\u001b[0;34m\u001b[0m\u001b[0;34m\u001b[0m\u001b[0m\n\u001b[1;32m    223\u001b[0m             \u001b[0mprediction\u001b[0m \u001b[0;34m=\u001b[0m \u001b[0mprediction\u001b[0m\u001b[0;34m[\u001b[0m\u001b[0msegmented_data\u001b[0m\u001b[0;34m.\u001b[0m\u001b[0mweight\u001b[0m \u001b[0;34m>\u001b[0m \u001b[0;36m0\u001b[0m\u001b[0;34m]\u001b[0m\u001b[0;34m.\u001b[0m\u001b[0mreindex\u001b[0m\u001b[0;34m(\u001b[0m\u001b[0mprediction_index\u001b[0m\u001b[0;34m)\u001b[0m\u001b[0;34m\u001b[0m\u001b[0;34m\u001b[0m\u001b[0m\n",
            "\u001b[0;32m/usr/local/lib/python3.6/dist-packages/eemeter/segmentation.py\u001b[0m in \u001b[0;36mpredict\u001b[0;34m(self, data)\u001b[0m\n\u001b[1;32m     96\u001b[0m         \u001b[0;31m# Step 3, predict\u001b[0m\u001b[0;34m\u001b[0m\u001b[0;34m\u001b[0m\u001b[0;34m\u001b[0m\u001b[0m\n\u001b[1;32m     97\u001b[0m         prediction = design_matrix_granular.dot(parameters).rename(\n\u001b[0;32m---> 98\u001b[0;31m             \u001b[0;34m\"predicted_usage\"\u001b[0m\u001b[0;34m\u001b[0m\u001b[0;34m\u001b[0m\u001b[0m\n\u001b[0m\u001b[1;32m     99\u001b[0m         )\n\u001b[1;32m    100\u001b[0m         \u001b[0;31m# Step 4, put nans back in\u001b[0m\u001b[0;34m\u001b[0m\u001b[0;34m\u001b[0m\u001b[0;34m\u001b[0m\u001b[0m\n",
            "\u001b[0;31mTypeError\u001b[0m: rename() got an unexpected keyword argument 'columns'"
          ]
        }
      ]
    },
    {
      "cell_type": "code",
      "metadata": {
        "id": "dmPbPL07n6hf",
        "colab_type": "code",
        "colab": {}
      },
      "source": [
        ""
      ],
      "execution_count": 317,
      "outputs": []
    }
  ]
}